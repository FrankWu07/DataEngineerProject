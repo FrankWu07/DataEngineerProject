{
 "cells": [
  {
   "cell_type": "markdown",
   "id": "split-lecture",
   "metadata": {},
   "source": [
    "# Part I. ETL Pipeline for Pre-Processing the Files"
   ]
  },
  {
   "cell_type": "markdown",
   "id": "magnetic-resort",
   "metadata": {},
   "source": [
    "## PLEASE RUN THE FOLLOWING CODE FOR PRE-PROCESSING THE FILES"
   ]
  },
  {
   "cell_type": "markdown",
   "id": "headed-bacteria",
   "metadata": {},
   "source": [
    "#### Import Python packages "
   ]
  },
  {
   "cell_type": "code",
   "execution_count": 1,
   "id": "narrow-inspector",
   "metadata": {},
   "outputs": [],
   "source": [
    "# Import Python packages \n",
    "import pandas as pd\n",
    "import cassandra\n",
    "import re\n",
    "import os\n",
    "import glob\n",
    "import numpy as np\n",
    "import json\n",
    "import csv"
   ]
  },
  {
   "cell_type": "markdown",
   "id": "helpful-business",
   "metadata": {},
   "source": [
    "#### Creating list of filepaths to process original event csv data files"
   ]
  },
  {
   "cell_type": "code",
   "execution_count": 2,
   "id": "fantastic-lesbian",
   "metadata": {},
   "outputs": [
    {
     "name": "stdout",
     "output_type": "stream",
     "text": [
      "/Users/mr_yue/Desktop/DATA_ENGINEER/DataEngineerProject/Data Modeling with Cassandra\n",
      "/Users/mr_yue/Desktop/DATA_ENGINEER/DataEngineerProject/Data Modeling with Cassandra/event_data\n",
      "Total number of event file is: 30\n"
     ]
    }
   ],
   "source": [
    "# check current working directory\n",
    "print(os.getcwd())\n",
    "\n",
    "# get file path of source data\n",
    "filepath = os.getcwd() + '/event_data'\n",
    "print(filepath)\n",
    "\n",
    "# Create a for loop to create a list of files and collect each filepath\n",
    "for root, dirs, files in os.walk(filepath):\n",
    "    file_path_list = glob.glob(os.path.join(root,'*'))\n",
    "file_path_list\n",
    "\n",
    "print(f'Total number of event file is: {len(file_path_list)}')"
   ]
  },
  {
   "cell_type": "markdown",
   "id": "magnetic-reception",
   "metadata": {},
   "source": [
    "#### Processing the files to create the data file csv that will be used for Apache Casssandra tables"
   ]
  },
  {
   "cell_type": "code",
   "execution_count": 3,
   "id": "beautiful-twins",
   "metadata": {},
   "outputs": [
    {
     "name": "stdout",
     "output_type": "stream",
     "text": [
      "Total number of rows is 8056\n"
     ]
    },
    {
     "data": {
      "text/plain": [
       "[['Harmonia',\n",
       "  'Logged In',\n",
       "  'Ryan',\n",
       "  'M',\n",
       "  '0',\n",
       "  'Smith',\n",
       "  '655.77751',\n",
       "  'free',\n",
       "  'San Jose-Sunnyvale-Santa Clara, CA',\n",
       "  'PUT',\n",
       "  'NextSong',\n",
       "  '1.54102E+12',\n",
       "  '583',\n",
       "  'Sehr kosmisch',\n",
       "  '200',\n",
       "  '1.54224E+12',\n",
       "  '26'],\n",
       " ['The Prodigy',\n",
       "  'Logged In',\n",
       "  'Ryan',\n",
       "  'M',\n",
       "  '1',\n",
       "  'Smith',\n",
       "  '260.07465',\n",
       "  'free',\n",
       "  'San Jose-Sunnyvale-Santa Clara, CA',\n",
       "  'PUT',\n",
       "  'NextSong',\n",
       "  '1.54102E+12',\n",
       "  '583',\n",
       "  'The Big Gundown',\n",
       "  '200',\n",
       "  '1.54224E+12',\n",
       "  '26'],\n",
       " ['Train',\n",
       "  'Logged In',\n",
       "  'Ryan',\n",
       "  'M',\n",
       "  '2',\n",
       "  'Smith',\n",
       "  '205.45261',\n",
       "  'free',\n",
       "  'San Jose-Sunnyvale-Santa Clara, CA',\n",
       "  'PUT',\n",
       "  'NextSong',\n",
       "  '1.54102E+12',\n",
       "  '583',\n",
       "  'Marry Me',\n",
       "  '200',\n",
       "  '1.54224E+12',\n",
       "  '26'],\n",
       " ['',\n",
       "  'Logged In',\n",
       "  'Wyatt',\n",
       "  'M',\n",
       "  '0',\n",
       "  'Scott',\n",
       "  '',\n",
       "  'free',\n",
       "  'Eureka-Arcata-Fortuna, CA',\n",
       "  'GET',\n",
       "  'Home',\n",
       "  '1.54087E+12',\n",
       "  '563',\n",
       "  '',\n",
       "  '200',\n",
       "  '1.54225E+12',\n",
       "  '9'],\n",
       " ['',\n",
       "  'Logged In',\n",
       "  'Austin',\n",
       "  'M',\n",
       "  '0',\n",
       "  'Rosales',\n",
       "  '',\n",
       "  'free',\n",
       "  'New York-Newark-Jersey City, NY-NJ-PA',\n",
       "  'GET',\n",
       "  'Home',\n",
       "  '1.54106E+12',\n",
       "  '521',\n",
       "  '',\n",
       "  '200',\n",
       "  '1.54225E+12',\n",
       "  '12'],\n",
       " ['Sony Wonder',\n",
       "  'Logged In',\n",
       "  'Samuel',\n",
       "  'M',\n",
       "  '0',\n",
       "  'Gonzalez',\n",
       "  '218.06975',\n",
       "  'free',\n",
       "  'Houston-The Woodlands-Sugar Land, TX',\n",
       "  'PUT',\n",
       "  'NextSong',\n",
       "  '1.54049E+12',\n",
       "  '597',\n",
       "  'Blackbird',\n",
       "  '200',\n",
       "  '1.54225E+12',\n",
       "  '61'],\n",
       " ['',\n",
       "  'Logged In',\n",
       "  'Samuel',\n",
       "  'M',\n",
       "  '1',\n",
       "  'Gonzalez',\n",
       "  '',\n",
       "  'free',\n",
       "  'Houston-The Woodlands-Sugar Land, TX',\n",
       "  'GET',\n",
       "  'About',\n",
       "  '1.54049E+12',\n",
       "  '597',\n",
       "  '',\n",
       "  '200',\n",
       "  '1.54225E+12',\n",
       "  '61'],\n",
       " ['',\n",
       "  'Logged Out',\n",
       "  '',\n",
       "  '',\n",
       "  '0',\n",
       "  '',\n",
       "  '',\n",
       "  'paid',\n",
       "  '',\n",
       "  'PUT',\n",
       "  'Login',\n",
       "  '',\n",
       "  '602',\n",
       "  '',\n",
       "  '307',\n",
       "  '1.54226E+12',\n",
       "  ''],\n",
       " ['',\n",
       "  'Logged In',\n",
       "  'Tegan',\n",
       "  'F',\n",
       "  '1',\n",
       "  'Levine',\n",
       "  '',\n",
       "  'paid',\n",
       "  'Portland-South Portland, ME',\n",
       "  'GET',\n",
       "  'Home',\n",
       "  '1.54079E+12',\n",
       "  '602',\n",
       "  '',\n",
       "  '200',\n",
       "  '1.54226E+12',\n",
       "  '80'],\n",
       " ['Van Halen',\n",
       "  'Logged In',\n",
       "  'Tegan',\n",
       "  'F',\n",
       "  '2',\n",
       "  'Levine',\n",
       "  '289.38404',\n",
       "  'paid',\n",
       "  'Portland-South Portland, ME',\n",
       "  'PUT',\n",
       "  'NextSong',\n",
       "  '1.54079E+12',\n",
       "  '602',\n",
       "  'Best Of Both Worlds (Remastered Album Version)',\n",
       "  '200',\n",
       "  '1.54226E+12',\n",
       "  '80'],\n",
       " ['Magic Sam',\n",
       "  'Logged In',\n",
       "  'Tegan',\n",
       "  'F',\n",
       "  '3',\n",
       "  'Levine',\n",
       "  '132.04853',\n",
       "  'paid',\n",
       "  'Portland-South Portland, ME',\n",
       "  'PUT',\n",
       "  'NextSong',\n",
       "  '1.54079E+12',\n",
       "  '602',\n",
       "  'Call Me If You Need Me',\n",
       "  '200',\n",
       "  '1.54226E+12',\n",
       "  '80'],\n",
       " ['Edward Sharpe & The Magnetic Zeros',\n",
       "  'Logged In',\n",
       "  'Tegan',\n",
       "  'F',\n",
       "  '4',\n",
       "  'Levine',\n",
       "  '306.31138',\n",
       "  'paid',\n",
       "  'Portland-South Portland, ME',\n",
       "  'PUT',\n",
       "  'NextSong',\n",
       "  '1.54079E+12',\n",
       "  '602',\n",
       "  'Home',\n",
       "  '200',\n",
       "  '1.54226E+12',\n",
       "  '80'],\n",
       " ['Usher featuring will.i.am',\n",
       "  'Logged In',\n",
       "  'Tegan',\n",
       "  'F',\n",
       "  '5',\n",
       "  'Levine',\n",
       "  '395.72853',\n",
       "  'paid',\n",
       "  'Portland-South Portland, ME',\n",
       "  'PUT',\n",
       "  'NextSong',\n",
       "  '1.54079E+12',\n",
       "  '602',\n",
       "  'OMG',\n",
       "  '200',\n",
       "  '1.54226E+12',\n",
       "  '80'],\n",
       " ['',\n",
       "  'Logged In',\n",
       "  'Tegan',\n",
       "  'F',\n",
       "  '6',\n",
       "  'Levine',\n",
       "  '',\n",
       "  'paid',\n",
       "  'Portland-South Portland, ME',\n",
       "  'GET',\n",
       "  'Home',\n",
       "  '1.54079E+12',\n",
       "  '602',\n",
       "  '',\n",
       "  '200',\n",
       "  '1.54226E+12',\n",
       "  '80'],\n",
       " ['Helen Reddy',\n",
       "  'Logged In',\n",
       "  'Tegan',\n",
       "  'F',\n",
       "  '7',\n",
       "  'Levine',\n",
       "  '176.50893',\n",
       "  'paid',\n",
       "  'Portland-South Portland, ME',\n",
       "  'PUT',\n",
       "  'NextSong',\n",
       "  '1.54079E+12',\n",
       "  '602',\n",
       "  'Candle On The Water',\n",
       "  '200',\n",
       "  '1.54226E+12',\n",
       "  '80'],\n",
       " ['Taylor Swift',\n",
       "  'Logged In',\n",
       "  'Tegan',\n",
       "  'F',\n",
       "  '8',\n",
       "  'Levine',\n",
       "  '201.06404',\n",
       "  'paid',\n",
       "  'Portland-South Portland, ME',\n",
       "  'PUT',\n",
       "  'NextSong',\n",
       "  '1.54079E+12',\n",
       "  '602',\n",
       "  'Our Song',\n",
       "  '200',\n",
       "  '1.54226E+12',\n",
       "  '80'],\n",
       " ['Sean Paul',\n",
       "  'Logged In',\n",
       "  'Tegan',\n",
       "  'F',\n",
       "  '9',\n",
       "  'Levine',\n",
       "  '245.34159',\n",
       "  'paid',\n",
       "  'Portland-South Portland, ME',\n",
       "  'PUT',\n",
       "  'NextSong',\n",
       "  '1.54079E+12',\n",
       "  '602',\n",
       "  'Baby Boy [feat. Beyonce]',\n",
       "  '200',\n",
       "  '1.54226E+12',\n",
       "  '80'],\n",
       " ['Soundgarden',\n",
       "  'Logged In',\n",
       "  'Lily',\n",
       "  'F',\n",
       "  '0',\n",
       "  'Koch',\n",
       "  '272.19546',\n",
       "  'paid',\n",
       "  'Chicago-Naperville-Elgin, IL-IN-WI',\n",
       "  'PUT',\n",
       "  'NextSong',\n",
       "  '1.54105E+12',\n",
       "  '582',\n",
       "  'Black Hole Sun',\n",
       "  '200',\n",
       "  '1.54226E+12',\n",
       "  '15'],\n",
       " ['The Killers',\n",
       "  'Logged In',\n",
       "  'Tegan',\n",
       "  'F',\n",
       "  '10',\n",
       "  'Levine',\n",
       "  '360.75057',\n",
       "  'paid',\n",
       "  'Portland-South Portland, ME',\n",
       "  'PUT',\n",
       "  'NextSong',\n",
       "  '1.54079E+12',\n",
       "  '602',\n",
       "  'Human',\n",
       "  '200',\n",
       "  '1.54226E+12',\n",
       "  '80'],\n",
       " ['Amy Winehouse',\n",
       "  'Logged In',\n",
       "  'Lily',\n",
       "  'F',\n",
       "  '1',\n",
       "  'Koch',\n",
       "  '165.11955',\n",
       "  'paid',\n",
       "  'Chicago-Naperville-Elgin, IL-IN-WI',\n",
       "  'PUT',\n",
       "  'NextSong',\n",
       "  '1.54105E+12',\n",
       "  '582',\n",
       "  'Addicted',\n",
       "  '200',\n",
       "  '1.54226E+12',\n",
       "  '15']]"
      ]
     },
     "execution_count": 3,
     "metadata": {},
     "output_type": "execute_result"
    }
   ],
   "source": [
    "# initiating an empty list of rows that will be generated from each file\n",
    "full_data_row_list = []\n",
    "\n",
    "# for every filepath in the file path list \n",
    "for f in file_path_list:\n",
    "    \n",
    "    # reading csv file \n",
    "    with open(f, 'r', encoding='utf8',newline='') as csvfile:\n",
    "        # create a csv reader object\n",
    "        csvreader = csv.reader(csvfile)\n",
    "        next(csvreader)\n",
    "        \n",
    "        # extracting each data row one by one and append it\n",
    "        for row in csvreader:\n",
    "            full_data_row_list.append(row)\n",
    "\n",
    "# get total number of rows \n",
    "print(f'Total number of rows is {len(full_data_row_list)}')\n",
    "# list of event data rows\n",
    "full_data_row_list[:20]"
   ]
  },
  {
   "cell_type": "code",
   "execution_count": 4,
   "id": "increasing-identity",
   "metadata": {},
   "outputs": [],
   "source": [
    "# creating a smaller event data csv file called event_datafile_full csv that will be used to insert data into the \\\n",
    "# Apache Cassandra tables\n",
    "csv.register_dialect('myDialect', quoting=csv.QUOTE_ALL, skipinitialspace=True)\n",
    "\n",
    "with open('event_datafile_new.csv', 'w', encoding='utf8', newline='') as f:\n",
    "    writer = csv.writer(f, dialect='myDialect')\n",
    "    writer.writerow(['artist','firstName','gender','itemInSession','lastName','length',\\\n",
    "                'level','location','sessionId','song','userId'])\n",
    "    for row in full_data_row_list:\n",
    "        if (row[0] == ''):\n",
    "            continue\n",
    "        writer.writerow((row[0], row[2], row[3], row[4], row[5], row[6],\n",
    "                         row[7], row[8], row[12], row[13], row[16]))\n",
    "            "
   ]
  },
  {
   "cell_type": "code",
   "execution_count": 5,
   "id": "cooked-discrimination",
   "metadata": {},
   "outputs": [
    {
     "name": "stdout",
     "output_type": "stream",
     "text": [
      "The total number of rows in  processed event datafile is: 6821\n"
     ]
    }
   ],
   "source": [
    "# check the number of rows in your csv file\n",
    "with open('event_datafile_new.csv', 'r', encoding = 'utf8') as f:\n",
    "    print('The total number of rows in  processed event datafile is: ' + str(sum(1 for line in f)))"
   ]
  },
  {
   "cell_type": "markdown",
   "id": "caring-wildlife",
   "metadata": {},
   "source": [
    "# Part II. Complete the Apache Cassandra coding portion of your project. \n",
    "\n",
    "## Now you are ready to work with the CSV file titled <font color=red>event_datafile_new.csv</font>, located within the Workspace directory.  The event_datafile_new.csv contains the following columns: \n",
    "- artist \n",
    "- firstName of user\n",
    "- gender of user\n",
    "- item number in session\n",
    "- last name of user\n",
    "- length of the song\n",
    "- level (paid or free song)\n",
    "- location of the user\n",
    "- sessionId\n",
    "- song title\n",
    "- userId\n",
    "\n",
    "The image below is a screenshot of what the denormalized data should appear like in the <font color=red>**event_datafile_new.csv**</font> after the code above is run:<br>\n",
    "\n",
    "<img src=\"images/image_event_datafile_new.jpg\">"
   ]
  },
  {
   "cell_type": "markdown",
   "id": "south-anderson",
   "metadata": {},
   "source": [
    "## Begin writing your Apache Cassandra code in the cells below"
   ]
  },
  {
   "cell_type": "markdown",
   "id": "premier-thursday",
   "metadata": {},
   "source": [
    "#### Creating a Cluster"
   ]
  },
  {
   "cell_type": "code",
   "execution_count": 6,
   "id": "approved-guyana",
   "metadata": {},
   "outputs": [],
   "source": [
    "# This should make a connection to a Cassandra instance your local machine \n",
    "# (127.0.0.1)\n",
    "\n",
    "from cassandra.cluster import Cluster\n",
    "cluster = Cluster(['127.0.0.1'])\n",
    "\n",
    "# To establish connection and begin executing queries, need a session\n",
    "session = cluster.connect()"
   ]
  },
  {
   "cell_type": "markdown",
   "id": "casual-migration",
   "metadata": {},
   "source": [
    "#### Create Keyspace"
   ]
  },
  {
   "cell_type": "code",
   "execution_count": 7,
   "id": "colored-dakota",
   "metadata": {},
   "outputs": [],
   "source": [
    "try:\n",
    "    session.execute(\"\"\"\n",
    "        CREATE KEYSPACE IF NOT EXISTS sparkify\n",
    "        WITH REPLICATION = {'class': 'SimpleStrategy', 'replication_factor': 1}\n",
    "    \"\"\")\n",
    "except Exception as e:\n",
    "    print(e)"
   ]
  },
  {
   "cell_type": "markdown",
   "id": "stock-spine",
   "metadata": {},
   "source": [
    "#### Set Keyspace"
   ]
  },
  {
   "cell_type": "code",
   "execution_count": 8,
   "id": "threatened-directive",
   "metadata": {},
   "outputs": [],
   "source": [
    "try:\n",
    "    session.set_keyspace('sparkify')\n",
    "except Exception as e:\n",
    "    print(e)"
   ]
  },
  {
   "cell_type": "markdown",
   "id": "passing-statistics",
   "metadata": {},
   "source": [
    "### Now we need to create tables to run the following queries. Remember, with Apache Cassandra you model the database tables on the queries you want to run."
   ]
  },
  {
   "cell_type": "markdown",
   "id": "special-spiritual",
   "metadata": {},
   "source": [
    "## Create queries to ask the following three questions of the data\n",
    "\n",
    "### 1. Give me the artist, song title and song's length in the music app history that was heard during  sessionId = 338, and itemInSession  = 4\n"
   ]
  },
  {
   "cell_type": "code",
   "execution_count": 9,
   "id": "ranking-junction",
   "metadata": {},
   "outputs": [],
   "source": [
    "# Based on query, we should create table first.\n",
    "\n",
    "query_1_table = \"\"\"\n",
    "    CREATE TABLE IF NOT EXISTS songs_with_session_item (\n",
    "        sessionId INT,\n",
    "        itemInSession INT,\n",
    "        artist TEXT,\n",
    "        songTitle TEXT,\n",
    "        songLength FLOAT,\n",
    "        PRIMARY KEY (sessionId, itemInSession)  \n",
    "    );\n",
    "\"\"\"\n",
    "\n",
    "try:\n",
    "    session.execute(query_1_table)\n",
    "except Exception as e:\n",
    "    print(e)\n",
    "\n",
    "    "
   ]
  },
  {
   "cell_type": "code",
   "execution_count": 10,
   "id": "tropical-commander",
   "metadata": {},
   "outputs": [],
   "source": [
    "# insert values into table based on source code\n",
    "query_1_insert = \"\"\"\n",
    "    INSERT INTO songs_with_session_item (sessionId, itemInSession, artist, songTitle, songLength)\n",
    "    VALUES (%s, %s, %s, %s, %s);\n",
    "\"\"\"\n",
    "file = 'event_datafile_new.csv'\n",
    "\n",
    "with open(file, encoding='utf8') as f:\n",
    "    csvreader = csv.reader(f)\n",
    "    next(csvreader) # skip header\n",
    "    for line in csvreader:\n",
    "        artist_name, first_name, gender, itemInSession, last_name, length, level, location, sessionId, song, userId = line\n",
    "        session.execute(query_1_insert, (int(sessionId), int(itemInSession), artist_name, song, float(length)))\n",
    "\n",
    "        "
   ]
  },
  {
   "cell_type": "code",
   "execution_count": 11,
   "id": "centered-charlotte",
   "metadata": {},
   "outputs": [
    {
     "name": "stdout",
     "output_type": "stream",
     "text": [
      "Artist: Faithless, Song Title: Music Matters (Mark Knight Dub), Song length: 495.30731201171875\n"
     ]
    }
   ],
   "source": [
    "# generate query to meet requirement\n",
    "query_1 = \"\"\"\n",
    "    select \n",
    "        artist,\n",
    "        songTitle,\n",
    "        songLength\n",
    "    from songs_with_session_item\n",
    "    where sessionId = 338\n",
    "    and itemInSession = 4\n",
    "\"\"\"\n",
    "results = session.execute(query_1)\n",
    "\n",
    "for row in results:\n",
    "    print(f'Artist: {row.artist}, Song Title: {row.songtitle}, Song length: {row.songlength}')"
   ]
  },
  {
   "cell_type": "markdown",
   "id": "august-liberal",
   "metadata": {},
   "source": [
    "### 2. Give me only the following: name of artist, song (sorted by itemInSession) and user (first and last name) for userid = 10, sessionid = 182"
   ]
  },
  {
   "cell_type": "code",
   "execution_count": 12,
   "id": "alternate-magnet",
   "metadata": {},
   "outputs": [],
   "source": [
    "# create table for query 2\n",
    "query_2_table = \"\"\"\n",
    "    CREATE TABLE IF NOT EXISTS song_with_user_session (\n",
    "        userId INT,\n",
    "        sessionId INT,\n",
    "        itemInSession INT,\n",
    "        artist TEXT,\n",
    "        song TEXT,\n",
    "        firstName TEXT,\n",
    "        lastName TEXT,\n",
    "        PRIMARY KEY ((userId, sessionId), itemInSession)\n",
    "        );\n",
    "\"\"\"\n",
    "\n",
    "try:\n",
    "    session.execute(query_2_table)\n",
    "except Exception as e:\n",
    "    print(e)"
   ]
  },
  {
   "cell_type": "code",
   "execution_count": 13,
   "id": "comfortable-secretariat",
   "metadata": {},
   "outputs": [],
   "source": [
    "# insert into query2 table values\n",
    "query_2_insert = \"\"\"\n",
    "    INSERT INTO song_with_user_session (userId, sessionId, itemInSession, artist, song, firstName, lastName)\n",
    "    VALUES (%s, %s, %s, %s, %s, %s, %s);\n",
    "\"\"\"\n",
    "file = 'event_datafile_new.csv'\n",
    "\n",
    "with open(file, encoding='utf8') as f:\n",
    "    csvreader = csv.reader(f)\n",
    "    next(csvreader) # skip header\n",
    "    for line in csvreader:\n",
    "        artist_name, first_name, gender, itemInSession, last_name, length, level, location, sessionId, song, userId = line\n",
    "        session.execute(query_2_insert, (int(userId), int(sessionId), int(itemInSession), artist_name, song, first_name, last_name))"
   ]
  },
  {
   "cell_type": "code",
   "execution_count": 14,
   "id": "conservative-brazil",
   "metadata": {},
   "outputs": [
    {
     "name": "stdout",
     "output_type": "stream",
     "text": [
      "Artist: Down To The Bone, Song: Keep On Keepin' On, first_name: Sylvie, last_name: Cruz\n",
      "Artist: Three Drives, Song: Greece 2000, first_name: Sylvie, last_name: Cruz\n",
      "Artist: Sebastien Tellier, Song: Kilometer, first_name: Sylvie, last_name: Cruz\n",
      "Artist: Lonnie Gordon, Song: Catch You Baby (Steve Pitron & Max Sanna Radio Edit), first_name: Sylvie, last_name: Cruz\n"
     ]
    }
   ],
   "source": [
    "# generate query to meet query2 requirement\n",
    "query_2 = \"\"\"\n",
    "    select\n",
    "        artist,\n",
    "        song,\n",
    "        firstName,\n",
    "        lastName\n",
    "    from song_with_user_session\n",
    "    where userId = 10\n",
    "    and sessionId = 182;\n",
    "\"\"\"\n",
    "results_2 = session.execute(query_2)\n",
    "for row in results_2:\n",
    "    print(f\"Artist: {row.artist}, Song: {row.song}, first_name: {row.firstname}, last_name: {row.lastname}\")"
   ]
  },
  {
   "cell_type": "markdown",
   "id": "spread-floor",
   "metadata": {},
   "source": [
    "### 3. Give me every user name (first and last) in my music app history who listened to the song 'All Hands Against His Own'\n"
   ]
  },
  {
   "cell_type": "code",
   "execution_count": 15,
   "id": "rough-player",
   "metadata": {},
   "outputs": [],
   "source": [
    "# create query3 table\n",
    "query_3_table = \"\"\"\n",
    "    CREATE TABLE IF NOT EXISTS user_with_song (\n",
    "        song TEXT,\n",
    "        userId INT,\n",
    "        firstName TEXT,\n",
    "        lastName TEXT,\n",
    "        PRIMARY KEY (song, userId)\n",
    "   );\n",
    "\"\"\"\n",
    "try:\n",
    "    session.execute(query_3_table)\n",
    "except Exception as e:\n",
    "    print(e)"
   ]
  },
  {
   "cell_type": "code",
   "execution_count": 16,
   "id": "desperate-cambridge",
   "metadata": {},
   "outputs": [],
   "source": [
    "# insert values into query3 table\n",
    "query_3_insert = \"\"\"\n",
    "    INSERT INTO user_with_song (song, userId, firstName, lastName)\n",
    "    VALUES (%s, %s, %s, %s);\n",
    "\"\"\"\n",
    "file = 'event_datafile_new.csv'\n",
    "\n",
    "with open(file, encoding='utf8') as f:\n",
    "    csvreader = csv.reader(f)\n",
    "    next(csvreader) # skip header\n",
    "    for line in csvreader:\n",
    "        artist_name, first_name, gender, itemInSession, last_name, length, level, location, sessionId, song, userId = line\n",
    "        session.execute(query_3_insert, (song, int(userId), first_name, last_name))"
   ]
  },
  {
   "cell_type": "code",
   "execution_count": 17,
   "id": "specific-angel",
   "metadata": {},
   "outputs": [
    {
     "name": "stdout",
     "output_type": "stream",
     "text": [
      "First Name: Jacqueline, Last Name: Lynch\n",
      "First Name: Tegan, Last Name: Levine\n",
      "First Name: Sara, Last Name: Johnson\n"
     ]
    }
   ],
   "source": [
    "# generate query3 to meet requirement\n",
    "query_3 = \"\"\"\n",
    "    select\n",
    "        firstName,\n",
    "        lastName\n",
    "    from user_with_song\n",
    "    where song = 'All Hands Against His Own';\n",
    "\"\"\"\n",
    "results_3 = session.execute(query_3)\n",
    "for row in results_3:\n",
    "    print(f'First Name: {row.firstname}, Last Name: {row.lastname}')"
   ]
  },
  {
   "cell_type": "markdown",
   "id": "commercial-dominican",
   "metadata": {},
   "source": [
    "### Drop the tables before closing out the sessions."
   ]
  },
  {
   "cell_type": "code",
   "execution_count": 18,
   "id": "expressed-pizza",
   "metadata": {},
   "outputs": [],
   "source": [
    "try:\n",
    "    session.execute(\"DROP TABLE IF EXISTS songs_with_session_item\")\n",
    "    session.execute(\"DROP TABLE IF EXISTS song_with_user_session\")\n",
    "    session.execute(\"DROP TABLE IF EXISTS user_with_song\")\n",
    "except Exception as e:\n",
    "    print(e)"
   ]
  },
  {
   "cell_type": "markdown",
   "id": "pretty-projection",
   "metadata": {},
   "source": [
    " ### Close the session and cluster connection¶"
   ]
  },
  {
   "cell_type": "code",
   "execution_count": 19,
   "id": "recovered-sixth",
   "metadata": {},
   "outputs": [],
   "source": [
    "session.shutdown()\n",
    "cluster.shutdown()"
   ]
  }
 ],
 "metadata": {
  "kernelspec": {
   "display_name": "Python 3",
   "language": "python",
   "name": "python3"
  },
  "language_info": {
   "codemirror_mode": {
    "name": "ipython",
    "version": 3
   },
   "file_extension": ".py",
   "mimetype": "text/x-python",
   "name": "python",
   "nbconvert_exporter": "python",
   "pygments_lexer": "ipython3",
   "version": "3.7.7"
  }
 },
 "nbformat": 4,
 "nbformat_minor": 5
}
