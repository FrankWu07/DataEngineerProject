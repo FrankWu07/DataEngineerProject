{
 "cells": [
  {
   "cell_type": "code",
   "execution_count": 1,
   "metadata": {},
   "outputs": [
    {
     "name": "stderr",
     "output_type": "stream",
     "text": [
      "-- \u001b[1mAttaching packages\u001b[22m --------------------------------------- tidyverse 1.3.0 --\n",
      "\n",
      "\u001b[32mv\u001b[39m \u001b[34mggplot2\u001b[39m 3.3.0     \u001b[32mv\u001b[39m \u001b[34mpurrr  \u001b[39m 0.3.4\n",
      "\u001b[32mv\u001b[39m \u001b[34mtibble \u001b[39m 3.0.1     \u001b[32mv\u001b[39m \u001b[34mdplyr  \u001b[39m 0.8.5\n",
      "\u001b[32mv\u001b[39m \u001b[34mtidyr  \u001b[39m 1.0.2     \u001b[32mv\u001b[39m \u001b[34mstringr\u001b[39m 1.4.0\n",
      "\u001b[32mv\u001b[39m \u001b[34mreadr  \u001b[39m 1.3.1     \u001b[32mv\u001b[39m \u001b[34mforcats\u001b[39m 0.5.0\n",
      "\n",
      "-- \u001b[1mConflicts\u001b[22m ------------------------------------------ tidyverse_conflicts() --\n",
      "\u001b[31mx\u001b[39m \u001b[34mdplyr\u001b[39m::\u001b[32mfilter()\u001b[39m masks \u001b[34mstats\u001b[39m::filter()\n",
      "\u001b[31mx\u001b[39m \u001b[34mdplyr\u001b[39m::\u001b[32mlag()\u001b[39m    masks \u001b[34mstats\u001b[39m::lag()\n",
      "\n"
     ]
    }
   ],
   "source": [
    "# library import\n",
    "library(tidyverse)"
   ]
  },
  {
   "cell_type": "code",
   "execution_count": 2,
   "metadata": {},
   "outputs": [
    {
     "data": {
      "text/html": [
       "<table>\n",
       "<caption>A data.frame: 6 × 8</caption>\n",
       "<thead>\n",
       "\t<tr><th></th><th scope=col>ax_ticker</th><th scope=col>OPEN</th><th scope=col>HIGH</th><th scope=col>LOW</th><th scope=col>CLOSE</th><th scope=col>VOLUME</th><th scope=col>ADJUSTED</th><th scope=col>Date</th></tr>\n",
       "\t<tr><th></th><th scope=col>&lt;chr&gt;</th><th scope=col>&lt;dbl&gt;</th><th scope=col>&lt;dbl&gt;</th><th scope=col>&lt;dbl&gt;</th><th scope=col>&lt;dbl&gt;</th><th scope=col>&lt;int&gt;</th><th scope=col>&lt;dbl&gt;</th><th scope=col>&lt;chr&gt;</th></tr>\n",
       "</thead>\n",
       "<tbody>\n",
       "\t<tr><th scope=row>1</th><td>A2M.AX</td><td>17.95</td><td>18.01</td><td>17.55</td><td>17.63</td><td>3301983</td><td>17.63</td><td>2020-06-09</td></tr>\n",
       "\t<tr><th scope=row>2</th><td>A2M.AX</td><td>17.63</td><td>18.17</td><td>17.63</td><td>18.10</td><td>3696601</td><td>18.10</td><td>2020-06-10</td></tr>\n",
       "\t<tr><th scope=row>3</th><td>A2M.AX</td><td>17.93</td><td>18.06</td><td>17.63</td><td>17.79</td><td>2765764</td><td>17.79</td><td>2020-06-11</td></tr>\n",
       "\t<tr><th scope=row>4</th><td>A2M.AX</td><td>17.50</td><td>17.83</td><td>17.43</td><td>17.68</td><td>4624805</td><td>17.68</td><td>2020-06-12</td></tr>\n",
       "\t<tr><th scope=row>5</th><td>A2M.AX</td><td>17.59</td><td>17.76</td><td>17.17</td><td>17.19</td><td>4069376</td><td>17.19</td><td>2020-06-15</td></tr>\n",
       "\t<tr><th scope=row>6</th><td>A2M.AX</td><td>17.50</td><td>17.83</td><td>17.21</td><td>17.72</td><td>3927487</td><td>17.72</td><td>2020-06-16</td></tr>\n",
       "</tbody>\n",
       "</table>\n"
      ],
      "text/latex": [
       "A data.frame: 6 × 8\n",
       "\\begin{tabular}{r|llllllll}\n",
       "  & ax\\_ticker & OPEN & HIGH & LOW & CLOSE & VOLUME & ADJUSTED & Date\\\\\n",
       "  & <chr> & <dbl> & <dbl> & <dbl> & <dbl> & <int> & <dbl> & <chr>\\\\\n",
       "\\hline\n",
       "\t1 & A2M.AX & 17.95 & 18.01 & 17.55 & 17.63 & 3301983 & 17.63 & 2020-06-09\\\\\n",
       "\t2 & A2M.AX & 17.63 & 18.17 & 17.63 & 18.10 & 3696601 & 18.10 & 2020-06-10\\\\\n",
       "\t3 & A2M.AX & 17.93 & 18.06 & 17.63 & 17.79 & 2765764 & 17.79 & 2020-06-11\\\\\n",
       "\t4 & A2M.AX & 17.50 & 17.83 & 17.43 & 17.68 & 4624805 & 17.68 & 2020-06-12\\\\\n",
       "\t5 & A2M.AX & 17.59 & 17.76 & 17.17 & 17.19 & 4069376 & 17.19 & 2020-06-15\\\\\n",
       "\t6 & A2M.AX & 17.50 & 17.83 & 17.21 & 17.72 & 3927487 & 17.72 & 2020-06-16\\\\\n",
       "\\end{tabular}\n"
      ],
      "text/markdown": [
       "\n",
       "A data.frame: 6 × 8\n",
       "\n",
       "| <!--/--> | ax_ticker &lt;chr&gt; | OPEN &lt;dbl&gt; | HIGH &lt;dbl&gt; | LOW &lt;dbl&gt; | CLOSE &lt;dbl&gt; | VOLUME &lt;int&gt; | ADJUSTED &lt;dbl&gt; | Date &lt;chr&gt; |\n",
       "|---|---|---|---|---|---|---|---|---|\n",
       "| 1 | A2M.AX | 17.95 | 18.01 | 17.55 | 17.63 | 3301983 | 17.63 | 2020-06-09 |\n",
       "| 2 | A2M.AX | 17.63 | 18.17 | 17.63 | 18.10 | 3696601 | 18.10 | 2020-06-10 |\n",
       "| 3 | A2M.AX | 17.93 | 18.06 | 17.63 | 17.79 | 2765764 | 17.79 | 2020-06-11 |\n",
       "| 4 | A2M.AX | 17.50 | 17.83 | 17.43 | 17.68 | 4624805 | 17.68 | 2020-06-12 |\n",
       "| 5 | A2M.AX | 17.59 | 17.76 | 17.17 | 17.19 | 4069376 | 17.19 | 2020-06-15 |\n",
       "| 6 | A2M.AX | 17.50 | 17.83 | 17.21 | 17.72 | 3927487 | 17.72 | 2020-06-16 |\n",
       "\n"
      ],
      "text/plain": [
       "  ax_ticker OPEN  HIGH  LOW   CLOSE VOLUME  ADJUSTED Date      \n",
       "1 A2M.AX    17.95 18.01 17.55 17.63 3301983 17.63    2020-06-09\n",
       "2 A2M.AX    17.63 18.17 17.63 18.10 3696601 18.10    2020-06-10\n",
       "3 A2M.AX    17.93 18.06 17.63 17.79 2765764 17.79    2020-06-11\n",
       "4 A2M.AX    17.50 17.83 17.43 17.68 4624805 17.68    2020-06-12\n",
       "5 A2M.AX    17.59 17.76 17.17 17.19 4069376 17.19    2020-06-15\n",
       "6 A2M.AX    17.50 17.83 17.21 17.72 3927487 17.72    2020-06-16"
      ]
     },
     "metadata": {},
     "output_type": "display_data"
    }
   ],
   "source": [
    "# read stocks.csv file into a dataframe called stocks\n",
    "stocks <- read.csv('stocks.csv')\n",
    "head(stocks)"
   ]
  },
  {
   "cell_type": "code",
   "execution_count": 3,
   "metadata": {},
   "outputs": [
    {
     "data": {
      "text/plain": [
       "  ax_ticker              OPEN             HIGH              LOW         \n",
       " Length:36936       Min.   :  0.01   Min.   :  0.011   Min.   :  0.010  \n",
       " Class :character   1st Qu.:  1.77   1st Qu.:  1.810   1st Qu.:  1.735  \n",
       " Mode  :character   Median :  3.95   Median :  4.010   Median :  3.890  \n",
       "                    Mean   : 12.19   Mean   : 12.361   Mean   : 12.033  \n",
       "                    3rd Qu.: 11.11   3rd Qu.: 11.290   3rd Qu.: 10.940  \n",
       "                    Max.   :320.00   Max.   :320.420   Max.   :317.510  \n",
       "                    NA's   :169      NA's   :169       NA's   :169      \n",
       "     CLOSE            VOLUME             ADJUSTED           Date          \n",
       " Min.   :  0.01   Min.   :        0   Min.   :  0.010   Length:36936      \n",
       " 1st Qu.:  1.77   1st Qu.:   551738   1st Qu.:  1.769   Class :character  \n",
       " Median :  3.95   Median :  1481726   Median :  3.950   Mode  :character  \n",
       " Mean   : 12.19   Mean   :  3279685   Mean   : 12.178                     \n",
       " 3rd Qu.: 11.12   3rd Qu.:  3904109   3rd Qu.: 11.100                     \n",
       " Max.   :318.58   Max.   :181246005   Max.   :318.580                     \n",
       " NA's   :169      NA's   :169         NA's   :169                         "
      ]
     },
     "metadata": {},
     "output_type": "display_data"
    }
   ],
   "source": [
    "summary(stocks)"
   ]
  },
  {
   "cell_type": "code",
   "execution_count": 4,
   "metadata": {},
   "outputs": [],
   "source": [
    "# Q1, there are a few NA values, let's drop them using drop_na function\n",
    "stocks <- stocks %>%\n",
    "  drop_na()"
   ]
  },
  {
   "cell_type": "code",
   "execution_count": 5,
   "metadata": {},
   "outputs": [],
   "source": [
    "# Q2, let's create a new column called MONEY_VOLUME, the formula is ((OPEN + CLOSE) * VOLUME)/2\n",
    "stocks <- stocks  %>% mutate(MONEY_VOLUME = ((OPEN + CLOSE) * VOLUME)/2)"
   ]
  },
  {
   "cell_type": "code",
   "execution_count": 6,
   "metadata": {},
   "outputs": [
    {
     "data": {
      "text/html": [
       "<table>\n",
       "<caption>A data.frame: 6 × 9</caption>\n",
       "<thead>\n",
       "\t<tr><th></th><th scope=col>ax_ticker</th><th scope=col>OPEN</th><th scope=col>HIGH</th><th scope=col>LOW</th><th scope=col>CLOSE</th><th scope=col>VOLUME</th><th scope=col>ADJUSTED</th><th scope=col>Date</th><th scope=col>MONEY_VOLUME</th></tr>\n",
       "\t<tr><th></th><th scope=col>&lt;chr&gt;</th><th scope=col>&lt;dbl&gt;</th><th scope=col>&lt;dbl&gt;</th><th scope=col>&lt;dbl&gt;</th><th scope=col>&lt;dbl&gt;</th><th scope=col>&lt;int&gt;</th><th scope=col>&lt;dbl&gt;</th><th scope=col>&lt;chr&gt;</th><th scope=col>&lt;dbl&gt;</th></tr>\n",
       "</thead>\n",
       "<tbody>\n",
       "\t<tr><th scope=row>1</th><td>A2M.AX</td><td>17.95</td><td>18.01</td><td>17.55</td><td>17.63</td><td>3301983</td><td>17.63</td><td>2020-06-09</td><td>58742278</td></tr>\n",
       "\t<tr><th scope=row>2</th><td>A2M.AX</td><td>17.63</td><td>18.17</td><td>17.63</td><td>18.10</td><td>3696601</td><td>18.10</td><td>2020-06-10</td><td>66039775</td></tr>\n",
       "\t<tr><th scope=row>3</th><td>A2M.AX</td><td>17.93</td><td>18.06</td><td>17.63</td><td>17.79</td><td>2765764</td><td>17.79</td><td>2020-06-11</td><td>49396546</td></tr>\n",
       "\t<tr><th scope=row>4</th><td>A2M.AX</td><td>17.50</td><td>17.83</td><td>17.43</td><td>17.68</td><td>4624805</td><td>17.68</td><td>2020-06-12</td><td>81350320</td></tr>\n",
       "\t<tr><th scope=row>5</th><td>A2M.AX</td><td>17.59</td><td>17.76</td><td>17.17</td><td>17.19</td><td>4069376</td><td>17.19</td><td>2020-06-15</td><td>70766451</td></tr>\n",
       "\t<tr><th scope=row>6</th><td>A2M.AX</td><td>17.50</td><td>17.83</td><td>17.21</td><td>17.72</td><td>3927487</td><td>17.72</td><td>2020-06-16</td><td>69163044</td></tr>\n",
       "</tbody>\n",
       "</table>\n"
      ],
      "text/latex": [
       "A data.frame: 6 × 9\n",
       "\\begin{tabular}{r|lllllllll}\n",
       "  & ax\\_ticker & OPEN & HIGH & LOW & CLOSE & VOLUME & ADJUSTED & Date & MONEY\\_VOLUME\\\\\n",
       "  & <chr> & <dbl> & <dbl> & <dbl> & <dbl> & <int> & <dbl> & <chr> & <dbl>\\\\\n",
       "\\hline\n",
       "\t1 & A2M.AX & 17.95 & 18.01 & 17.55 & 17.63 & 3301983 & 17.63 & 2020-06-09 & 58742278\\\\\n",
       "\t2 & A2M.AX & 17.63 & 18.17 & 17.63 & 18.10 & 3696601 & 18.10 & 2020-06-10 & 66039775\\\\\n",
       "\t3 & A2M.AX & 17.93 & 18.06 & 17.63 & 17.79 & 2765764 & 17.79 & 2020-06-11 & 49396546\\\\\n",
       "\t4 & A2M.AX & 17.50 & 17.83 & 17.43 & 17.68 & 4624805 & 17.68 & 2020-06-12 & 81350320\\\\\n",
       "\t5 & A2M.AX & 17.59 & 17.76 & 17.17 & 17.19 & 4069376 & 17.19 & 2020-06-15 & 70766451\\\\\n",
       "\t6 & A2M.AX & 17.50 & 17.83 & 17.21 & 17.72 & 3927487 & 17.72 & 2020-06-16 & 69163044\\\\\n",
       "\\end{tabular}\n"
      ],
      "text/markdown": [
       "\n",
       "A data.frame: 6 × 9\n",
       "\n",
       "| <!--/--> | ax_ticker &lt;chr&gt; | OPEN &lt;dbl&gt; | HIGH &lt;dbl&gt; | LOW &lt;dbl&gt; | CLOSE &lt;dbl&gt; | VOLUME &lt;int&gt; | ADJUSTED &lt;dbl&gt; | Date &lt;chr&gt; | MONEY_VOLUME &lt;dbl&gt; |\n",
       "|---|---|---|---|---|---|---|---|---|---|\n",
       "| 1 | A2M.AX | 17.95 | 18.01 | 17.55 | 17.63 | 3301983 | 17.63 | 2020-06-09 | 58742278 |\n",
       "| 2 | A2M.AX | 17.63 | 18.17 | 17.63 | 18.10 | 3696601 | 18.10 | 2020-06-10 | 66039775 |\n",
       "| 3 | A2M.AX | 17.93 | 18.06 | 17.63 | 17.79 | 2765764 | 17.79 | 2020-06-11 | 49396546 |\n",
       "| 4 | A2M.AX | 17.50 | 17.83 | 17.43 | 17.68 | 4624805 | 17.68 | 2020-06-12 | 81350320 |\n",
       "| 5 | A2M.AX | 17.59 | 17.76 | 17.17 | 17.19 | 4069376 | 17.19 | 2020-06-15 | 70766451 |\n",
       "| 6 | A2M.AX | 17.50 | 17.83 | 17.21 | 17.72 | 3927487 | 17.72 | 2020-06-16 | 69163044 |\n",
       "\n"
      ],
      "text/plain": [
       "  ax_ticker OPEN  HIGH  LOW   CLOSE VOLUME  ADJUSTED Date       MONEY_VOLUME\n",
       "1 A2M.AX    17.95 18.01 17.55 17.63 3301983 17.63    2020-06-09 58742278    \n",
       "2 A2M.AX    17.63 18.17 17.63 18.10 3696601 18.10    2020-06-10 66039775    \n",
       "3 A2M.AX    17.93 18.06 17.63 17.79 2765764 17.79    2020-06-11 49396546    \n",
       "4 A2M.AX    17.50 17.83 17.43 17.68 4624805 17.68    2020-06-12 81350320    \n",
       "5 A2M.AX    17.59 17.76 17.17 17.19 4069376 17.19    2020-06-15 70766451    \n",
       "6 A2M.AX    17.50 17.83 17.21 17.72 3927487 17.72    2020-06-16 69163044    "
      ]
     },
     "metadata": {},
     "output_type": "display_data"
    }
   ],
   "source": [
    "head(stocks)"
   ]
  },
  {
   "cell_type": "code",
   "execution_count": 7,
   "metadata": {},
   "outputs": [
    {
     "data": {
      "text/html": [
       "<table>\n",
       "<caption>A data.frame: 6 × 9</caption>\n",
       "<thead>\n",
       "\t<tr><th></th><th scope=col>ax_ticker</th><th scope=col>OPEN</th><th scope=col>HIGH</th><th scope=col>LOW</th><th scope=col>CLOSE</th><th scope=col>VOLUME</th><th scope=col>ADJUSTED</th><th scope=col>Date</th><th scope=col>MONEY_VOLUME</th></tr>\n",
       "\t<tr><th></th><th scope=col>&lt;chr&gt;</th><th scope=col>&lt;dbl&gt;</th><th scope=col>&lt;dbl&gt;</th><th scope=col>&lt;dbl&gt;</th><th scope=col>&lt;dbl&gt;</th><th scope=col>&lt;int&gt;</th><th scope=col>&lt;dbl&gt;</th><th scope=col>&lt;chr&gt;</th><th scope=col>&lt;dbl&gt;</th></tr>\n",
       "</thead>\n",
       "<tbody>\n",
       "\t<tr><th scope=row>1</th><td>CSL.AX</td><td>289.99</td><td>289.99</td><td>275.50</td><td>278.50</td><td> 2219359</td><td>278.50</td><td>2020-06-09</td><td>630841688</td></tr>\n",
       "\t<tr><th scope=row>2</th><td>CSL.AX</td><td>286.56</td><td>287.73</td><td>282.62</td><td>282.62</td><td> 2128546</td><td>282.62</td><td>2020-09-18</td><td>605762899</td></tr>\n",
       "\t<tr><th scope=row>3</th><td>CSL.AX</td><td>296.15</td><td>296.72</td><td>289.69</td><td>292.74</td><td> 1932667</td><td>292.74</td><td>2020-06-26</td><td>569064119</td></tr>\n",
       "\t<tr><th scope=row>4</th><td>BHP.AX</td><td> 37.90</td><td> 38.18</td><td> 37.66</td><td> 37.80</td><td>14636337</td><td> 37.80</td><td>2020-09-18</td><td>553985363</td></tr>\n",
       "\t<tr><th scope=row>5</th><td>CBA.AX</td><td> 78.78</td><td> 80.00</td><td> 78.10</td><td> 80.00</td><td> 6969228</td><td> 80.00</td><td>2020-11-20</td><td>553287007</td></tr>\n",
       "\t<tr><th scope=row>6</th><td>CSL.AX</td><td>298.02</td><td>299.85</td><td>294.89</td><td>295.52</td><td> 1861765</td><td>295.52</td><td>2020-08-21</td><td>552515979</td></tr>\n",
       "</tbody>\n",
       "</table>\n"
      ],
      "text/latex": [
       "A data.frame: 6 × 9\n",
       "\\begin{tabular}{r|lllllllll}\n",
       "  & ax\\_ticker & OPEN & HIGH & LOW & CLOSE & VOLUME & ADJUSTED & Date & MONEY\\_VOLUME\\\\\n",
       "  & <chr> & <dbl> & <dbl> & <dbl> & <dbl> & <int> & <dbl> & <chr> & <dbl>\\\\\n",
       "\\hline\n",
       "\t1 & CSL.AX & 289.99 & 289.99 & 275.50 & 278.50 &  2219359 & 278.50 & 2020-06-09 & 630841688\\\\\n",
       "\t2 & CSL.AX & 286.56 & 287.73 & 282.62 & 282.62 &  2128546 & 282.62 & 2020-09-18 & 605762899\\\\\n",
       "\t3 & CSL.AX & 296.15 & 296.72 & 289.69 & 292.74 &  1932667 & 292.74 & 2020-06-26 & 569064119\\\\\n",
       "\t4 & BHP.AX &  37.90 &  38.18 &  37.66 &  37.80 & 14636337 &  37.80 & 2020-09-18 & 553985363\\\\\n",
       "\t5 & CBA.AX &  78.78 &  80.00 &  78.10 &  80.00 &  6969228 &  80.00 & 2020-11-20 & 553287007\\\\\n",
       "\t6 & CSL.AX & 298.02 & 299.85 & 294.89 & 295.52 &  1861765 & 295.52 & 2020-08-21 & 552515979\\\\\n",
       "\\end{tabular}\n"
      ],
      "text/markdown": [
       "\n",
       "A data.frame: 6 × 9\n",
       "\n",
       "| <!--/--> | ax_ticker &lt;chr&gt; | OPEN &lt;dbl&gt; | HIGH &lt;dbl&gt; | LOW &lt;dbl&gt; | CLOSE &lt;dbl&gt; | VOLUME &lt;int&gt; | ADJUSTED &lt;dbl&gt; | Date &lt;chr&gt; | MONEY_VOLUME &lt;dbl&gt; |\n",
       "|---|---|---|---|---|---|---|---|---|---|\n",
       "| 1 | CSL.AX | 289.99 | 289.99 | 275.50 | 278.50 |  2219359 | 278.50 | 2020-06-09 | 630841688 |\n",
       "| 2 | CSL.AX | 286.56 | 287.73 | 282.62 | 282.62 |  2128546 | 282.62 | 2020-09-18 | 605762899 |\n",
       "| 3 | CSL.AX | 296.15 | 296.72 | 289.69 | 292.74 |  1932667 | 292.74 | 2020-06-26 | 569064119 |\n",
       "| 4 | BHP.AX |  37.90 |  38.18 |  37.66 |  37.80 | 14636337 |  37.80 | 2020-09-18 | 553985363 |\n",
       "| 5 | CBA.AX |  78.78 |  80.00 |  78.10 |  80.00 |  6969228 |  80.00 | 2020-11-20 | 553287007 |\n",
       "| 6 | CSL.AX | 298.02 | 299.85 | 294.89 | 295.52 |  1861765 | 295.52 | 2020-08-21 | 552515979 |\n",
       "\n"
      ],
      "text/plain": [
       "  ax_ticker OPEN   HIGH   LOW    CLOSE  VOLUME   ADJUSTED Date      \n",
       "1 CSL.AX    289.99 289.99 275.50 278.50  2219359 278.50   2020-06-09\n",
       "2 CSL.AX    286.56 287.73 282.62 282.62  2128546 282.62   2020-09-18\n",
       "3 CSL.AX    296.15 296.72 289.69 292.74  1932667 292.74   2020-06-26\n",
       "4 BHP.AX     37.90  38.18  37.66  37.80 14636337  37.80   2020-09-18\n",
       "5 CBA.AX     78.78  80.00  78.10  80.00  6969228  80.00   2020-11-20\n",
       "6 CSL.AX    298.02 299.85 294.89 295.52  1861765 295.52   2020-08-21\n",
       "  MONEY_VOLUME\n",
       "1 630841688   \n",
       "2 605762899   \n",
       "3 569064119   \n",
       "4 553985363   \n",
       "5 553287007   \n",
       "6 552515979   "
      ]
     },
     "metadata": {},
     "output_type": "display_data"
    }
   ],
   "source": [
    "# Q3, which stock has the largest MONEY_VOLUME on which day?\n",
    "stocks %>% arrange(desc(MONEY_VOLUME)) %>% head()"
   ]
  },
  {
   "cell_type": "code",
   "execution_count": 8,
   "metadata": {},
   "outputs": [
    {
     "data": {
      "text/html": [
       "<table>\n",
       "<caption>A data.frame: 6 × 5</caption>\n",
       "<thead>\n",
       "\t<tr><th></th><th scope=col>Code</th><th scope=col>Company</th><th scope=col>Sector</th><th scope=col>MarketCap</th><th scope=col>Weight</th></tr>\n",
       "\t<tr><th></th><th scope=col>&lt;chr&gt;</th><th scope=col>&lt;chr&gt;</th><th scope=col>&lt;chr&gt;</th><th scope=col>&lt;dbl&gt;</th><th scope=col>&lt;dbl&gt;</th></tr>\n",
       "</thead>\n",
       "<tbody>\n",
       "\t<tr><th scope=row>1</th><td>ABP.AX</td><td>Abacus Property Group</td><td>Real Estate           </td><td> 1653360000</td><td>0.10</td></tr>\n",
       "\t<tr><th scope=row>2</th><td>AX1.AX</td><td>Accent Group Ltd     </td><td>Consumer Discretionary</td><td>  639757000</td><td>0.04</td></tr>\n",
       "\t<tr><th scope=row>3</th><td>ABC.AX</td><td>Adelaide Brighton Ltd</td><td>Materials             </td><td> 1780690000</td><td>0.11</td></tr>\n",
       "\t<tr><th scope=row>4</th><td>APT.AX</td><td>Afterpay Ltd         </td><td>Information Technology</td><td> 8329580000</td><td>0.50</td></tr>\n",
       "\t<tr><th scope=row>5</th><td>AGL.AX</td><td>AGL Energy Ltd       </td><td>Utilities             </td><td>10669800000</td><td>0.63</td></tr>\n",
       "\t<tr><th scope=row>6</th><td>AQG.AX</td><td>Alacer Gold Corp     </td><td>Materials             </td><td>  499400000</td><td>0.03</td></tr>\n",
       "</tbody>\n",
       "</table>\n"
      ],
      "text/latex": [
       "A data.frame: 6 × 5\n",
       "\\begin{tabular}{r|lllll}\n",
       "  & Code & Company & Sector & MarketCap & Weight\\\\\n",
       "  & <chr> & <chr> & <chr> & <dbl> & <dbl>\\\\\n",
       "\\hline\n",
       "\t1 & ABP.AX & Abacus Property Group & Real Estate            &  1653360000 & 0.10\\\\\n",
       "\t2 & AX1.AX & Accent Group Ltd      & Consumer Discretionary &   639757000 & 0.04\\\\\n",
       "\t3 & ABC.AX & Adelaide Brighton Ltd & Materials              &  1780690000 & 0.11\\\\\n",
       "\t4 & APT.AX & Afterpay Ltd          & Information Technology &  8329580000 & 0.50\\\\\n",
       "\t5 & AGL.AX & AGL Energy Ltd        & Utilities              & 10669800000 & 0.63\\\\\n",
       "\t6 & AQG.AX & Alacer Gold Corp      & Materials              &   499400000 & 0.03\\\\\n",
       "\\end{tabular}\n"
      ],
      "text/markdown": [
       "\n",
       "A data.frame: 6 × 5\n",
       "\n",
       "| <!--/--> | Code &lt;chr&gt; | Company &lt;chr&gt; | Sector &lt;chr&gt; | MarketCap &lt;dbl&gt; | Weight &lt;dbl&gt; |\n",
       "|---|---|---|---|---|---|\n",
       "| 1 | ABP.AX | Abacus Property Group | Real Estate            |  1653360000 | 0.10 |\n",
       "| 2 | AX1.AX | Accent Group Ltd      | Consumer Discretionary |   639757000 | 0.04 |\n",
       "| 3 | ABC.AX | Adelaide Brighton Ltd | Materials              |  1780690000 | 0.11 |\n",
       "| 4 | APT.AX | Afterpay Ltd          | Information Technology |  8329580000 | 0.50 |\n",
       "| 5 | AGL.AX | AGL Energy Ltd        | Utilities              | 10669800000 | 0.63 |\n",
       "| 6 | AQG.AX | Alacer Gold Corp      | Materials              |   499400000 | 0.03 |\n",
       "\n"
      ],
      "text/plain": [
       "  Code   Company               Sector                 MarketCap   Weight\n",
       "1 ABP.AX Abacus Property Group Real Estate             1653360000 0.10  \n",
       "2 AX1.AX Accent Group Ltd      Consumer Discretionary   639757000 0.04  \n",
       "3 ABC.AX Adelaide Brighton Ltd Materials               1780690000 0.11  \n",
       "4 APT.AX Afterpay Ltd          Information Technology  8329580000 0.50  \n",
       "5 AGL.AX AGL Energy Ltd        Utilities              10669800000 0.63  \n",
       "6 AQG.AX Alacer Gold Corp      Materials                499400000 0.03  "
      ]
     },
     "metadata": {},
     "output_type": "display_data"
    }
   ],
   "source": [
    "# read industry file into a dataframe called ind\n",
    "ind <- read.csv('industry.csv')\n",
    "# add .AX sufix into Code column so it can join with stocks data\n",
    "ind$Code <- paste0(ind$Code,'.AX')\n",
    "head(ind)"
   ]
  },
  {
   "cell_type": "code",
   "execution_count": 9,
   "metadata": {},
   "outputs": [
    {
     "data": {
      "text/plain": [
       "     Code             Company             Sector            MarketCap        \n",
       " Length:297         Length:297         Length:297         Min.   :9.296e+07  \n",
       " Class :character   Class :character   Class :character   1st Qu.:6.534e+08  \n",
       " Mode  :character   Mode  :character   Mode  :character   Median :1.477e+09  \n",
       "                                                          Mean   :5.661e+09  \n",
       "                                                          3rd Qu.:4.787e+09  \n",
       "                                                          Max.   :1.405e+11  \n",
       "     Weight      \n",
       " Min.   :0.0100  \n",
       " 1st Qu.:0.0400  \n",
       " Median :0.0900  \n",
       " Mean   :0.3368  \n",
       " 3rd Qu.:0.2800  \n",
       " Max.   :8.3600  "
      ]
     },
     "metadata": {},
     "output_type": "display_data"
    }
   ],
   "source": [
    "# apply summary on ind dataframe\n",
    "summary(ind)"
   ]
  },
  {
   "cell_type": "code",
   "execution_count": 10,
   "metadata": {},
   "outputs": [],
   "source": [
    "### Q4: find out the top 5 stock codes with the largest MarketCap, assign it to top_ind dataframe\n",
    "top_ind <- ind %>% arrange(desc(MarketCap))  %>% head(5)"
   ]
  },
  {
   "cell_type": "code",
   "execution_count": 11,
   "metadata": {
    "scrolled": false
   },
   "outputs": [
    {
     "data": {
      "image/png": "[encoded data removed]",
      "text/plain": [
       "plot without title"
      ]
     },
     "metadata": {
      "image/png": {
       "height": 420,
       "width": 420
      },
      "text/plain": {
       "height": 420,
       "width": 420
      }
     },
     "output_type": "display_data"
    }
   ],
   "source": [
    "### Q5, plot a barchart for top_ind dataframe, with x axis = Code, y axis = MarketCap\n",
    "ggplot(top_ind, aes(x=Code, y=MarketCap)) + geom_bar(stat=\"identity\")"
   ]
  },
  {
   "cell_type": "markdown",
   "metadata": {},
   "source": [
    "## Part 2"
   ]
  },
  {
   "cell_type": "code",
   "execution_count": 12,
   "metadata": {},
   "outputs": [],
   "source": [
    "# use stocks dataframe to left join with ind dataframe, by ax_ticker and Code column\n",
    "df <- stocks %>% left_join(ind, by=c('ax_ticker' = 'Code'))"
   ]
  },
  {
   "cell_type": "code",
   "execution_count": 13,
   "metadata": {},
   "outputs": [
    {
     "data": {
      "text/html": [
       "<table>\n",
       "<caption>A data.frame: 6 × 13</caption>\n",
       "<thead>\n",
       "\t<tr><th></th><th scope=col>ax_ticker</th><th scope=col>OPEN</th><th scope=col>HIGH</th><th scope=col>LOW</th><th scope=col>CLOSE</th><th scope=col>VOLUME</th><th scope=col>ADJUSTED</th><th scope=col>Date</th><th scope=col>MONEY_VOLUME</th><th scope=col>Company</th><th scope=col>Sector</th><th scope=col>MarketCap</th><th scope=col>Weight</th></tr>\n",
       "\t<tr><th></th><th scope=col>&lt;chr&gt;</th><th scope=col>&lt;dbl&gt;</th><th scope=col>&lt;dbl&gt;</th><th scope=col>&lt;dbl&gt;</th><th scope=col>&lt;dbl&gt;</th><th scope=col>&lt;int&gt;</th><th scope=col>&lt;dbl&gt;</th><th scope=col>&lt;chr&gt;</th><th scope=col>&lt;dbl&gt;</th><th scope=col>&lt;chr&gt;</th><th scope=col>&lt;chr&gt;</th><th scope=col>&lt;dbl&gt;</th><th scope=col>&lt;dbl&gt;</th></tr>\n",
       "</thead>\n",
       "<tbody>\n",
       "\t<tr><th scope=row>1</th><td>A2M.AX</td><td>17.95</td><td>18.01</td><td>17.55</td><td>17.63</td><td>3301983</td><td>17.63</td><td>2020-06-09</td><td>58742278</td><td>The a2 Milk Company Ltd</td><td>Consumer Staples</td><td>13479700000</td><td>0.8</td></tr>\n",
       "\t<tr><th scope=row>2</th><td>A2M.AX</td><td>17.63</td><td>18.17</td><td>17.63</td><td>18.10</td><td>3696601</td><td>18.10</td><td>2020-06-10</td><td>66039775</td><td>The a2 Milk Company Ltd</td><td>Consumer Staples</td><td>13479700000</td><td>0.8</td></tr>\n",
       "\t<tr><th scope=row>3</th><td>A2M.AX</td><td>17.93</td><td>18.06</td><td>17.63</td><td>17.79</td><td>2765764</td><td>17.79</td><td>2020-06-11</td><td>49396546</td><td>The a2 Milk Company Ltd</td><td>Consumer Staples</td><td>13479700000</td><td>0.8</td></tr>\n",
       "\t<tr><th scope=row>4</th><td>A2M.AX</td><td>17.50</td><td>17.83</td><td>17.43</td><td>17.68</td><td>4624805</td><td>17.68</td><td>2020-06-12</td><td>81350320</td><td>The a2 Milk Company Ltd</td><td>Consumer Staples</td><td>13479700000</td><td>0.8</td></tr>\n",
       "\t<tr><th scope=row>5</th><td>A2M.AX</td><td>17.59</td><td>17.76</td><td>17.17</td><td>17.19</td><td>4069376</td><td>17.19</td><td>2020-06-15</td><td>70766451</td><td>The a2 Milk Company Ltd</td><td>Consumer Staples</td><td>13479700000</td><td>0.8</td></tr>\n",
       "\t<tr><th scope=row>6</th><td>A2M.AX</td><td>17.50</td><td>17.83</td><td>17.21</td><td>17.72</td><td>3927487</td><td>17.72</td><td>2020-06-16</td><td>69163044</td><td>The a2 Milk Company Ltd</td><td>Consumer Staples</td><td>13479700000</td><td>0.8</td></tr>\n",
       "</tbody>\n",
       "</table>\n"
      ],
      "text/latex": [
       "A data.frame: 6 × 13\n",
       "\\begin{tabular}{r|lllllllllllll}\n",
       "  & ax\\_ticker & OPEN & HIGH & LOW & CLOSE & VOLUME & ADJUSTED & Date & MONEY\\_VOLUME & Company & Sector & MarketCap & Weight\\\\\n",
       "  & <chr> & <dbl> & <dbl> & <dbl> & <dbl> & <int> & <dbl> & <chr> & <dbl> & <chr> & <chr> & <dbl> & <dbl>\\\\\n",
       "\\hline\n",
       "\t1 & A2M.AX & 17.95 & 18.01 & 17.55 & 17.63 & 3301983 & 17.63 & 2020-06-09 & 58742278 & The a2 Milk Company Ltd & Consumer Staples & 13479700000 & 0.8\\\\\n",
       "\t2 & A2M.AX & 17.63 & 18.17 & 17.63 & 18.10 & 3696601 & 18.10 & 2020-06-10 & 66039775 & The a2 Milk Company Ltd & Consumer Staples & 13479700000 & 0.8\\\\\n",
       "\t3 & A2M.AX & 17.93 & 18.06 & 17.63 & 17.79 & 2765764 & 17.79 & 2020-06-11 & 49396546 & The a2 Milk Company Ltd & Consumer Staples & 13479700000 & 0.8\\\\\n",
       "\t4 & A2M.AX & 17.50 & 17.83 & 17.43 & 17.68 & 4624805 & 17.68 & 2020-06-12 & 81350320 & The a2 Milk Company Ltd & Consumer Staples & 13479700000 & 0.8\\\\\n",
       "\t5 & A2M.AX & 17.59 & 17.76 & 17.17 & 17.19 & 4069376 & 17.19 & 2020-06-15 & 70766451 & The a2 Milk Company Ltd & Consumer Staples & 13479700000 & 0.8\\\\\n",
       "\t6 & A2M.AX & 17.50 & 17.83 & 17.21 & 17.72 & 3927487 & 17.72 & 2020-06-16 & 69163044 & The a2 Milk Company Ltd & Consumer Staples & 13479700000 & 0.8\\\\\n",
       "\\end{tabular}\n"
      ],
      "text/markdown": [
       "\n",
       "A data.frame: 6 × 13\n",
       "\n",
       "| <!--/--> | ax_ticker &lt;chr&gt; | OPEN &lt;dbl&gt; | HIGH &lt;dbl&gt; | LOW &lt;dbl&gt; | CLOSE &lt;dbl&gt; | VOLUME &lt;int&gt; | ADJUSTED &lt;dbl&gt; | Date &lt;chr&gt; | MONEY_VOLUME &lt;dbl&gt; | Company &lt;chr&gt; | Sector &lt;chr&gt; | MarketCap &lt;dbl&gt; | Weight &lt;dbl&gt; |\n",
       "|---|---|---|---|---|---|---|---|---|---|---|---|---|---|\n",
       "| 1 | A2M.AX | 17.95 | 18.01 | 17.55 | 17.63 | 3301983 | 17.63 | 2020-06-09 | 58742278 | The a2 Milk Company Ltd | Consumer Staples | 13479700000 | 0.8 |\n",
       "| 2 | A2M.AX | 17.63 | 18.17 | 17.63 | 18.10 | 3696601 | 18.10 | 2020-06-10 | 66039775 | The a2 Milk Company Ltd | Consumer Staples | 13479700000 | 0.8 |\n",
       "| 3 | A2M.AX | 17.93 | 18.06 | 17.63 | 17.79 | 2765764 | 17.79 | 2020-06-11 | 49396546 | The a2 Milk Company Ltd | Consumer Staples | 13479700000 | 0.8 |\n",
       "| 4 | A2M.AX | 17.50 | 17.83 | 17.43 | 17.68 | 4624805 | 17.68 | 2020-06-12 | 81350320 | The a2 Milk Company Ltd | Consumer Staples | 13479700000 | 0.8 |\n",
       "| 5 | A2M.AX | 17.59 | 17.76 | 17.17 | 17.19 | 4069376 | 17.19 | 2020-06-15 | 70766451 | The a2 Milk Company Ltd | Consumer Staples | 13479700000 | 0.8 |\n",
       "| 6 | A2M.AX | 17.50 | 17.83 | 17.21 | 17.72 | 3927487 | 17.72 | 2020-06-16 | 69163044 | The a2 Milk Company Ltd | Consumer Staples | 13479700000 | 0.8 |\n",
       "\n"
      ],
      "text/plain": [
       "  ax_ticker OPEN  HIGH  LOW   CLOSE VOLUME  ADJUSTED Date       MONEY_VOLUME\n",
       "1 A2M.AX    17.95 18.01 17.55 17.63 3301983 17.63    2020-06-09 58742278    \n",
       "2 A2M.AX    17.63 18.17 17.63 18.10 3696601 18.10    2020-06-10 66039775    \n",
       "3 A2M.AX    17.93 18.06 17.63 17.79 2765764 17.79    2020-06-11 49396546    \n",
       "4 A2M.AX    17.50 17.83 17.43 17.68 4624805 17.68    2020-06-12 81350320    \n",
       "5 A2M.AX    17.59 17.76 17.17 17.19 4069376 17.19    2020-06-15 70766451    \n",
       "6 A2M.AX    17.50 17.83 17.21 17.72 3927487 17.72    2020-06-16 69163044    \n",
       "  Company                 Sector           MarketCap   Weight\n",
       "1 The a2 Milk Company Ltd Consumer Staples 13479700000 0.8   \n",
       "2 The a2 Milk Company Ltd Consumer Staples 13479700000 0.8   \n",
       "3 The a2 Milk Company Ltd Consumer Staples 13479700000 0.8   \n",
       "4 The a2 Milk Company Ltd Consumer Staples 13479700000 0.8   \n",
       "5 The a2 Milk Company Ltd Consumer Staples 13479700000 0.8   \n",
       "6 The a2 Milk Company Ltd Consumer Staples 13479700000 0.8   "
      ]
     },
     "metadata": {},
     "output_type": "display_data"
    }
   ],
   "source": [
    "# have a look at the new data frame\n",
    "head(df)"
   ]
  },
  {
   "cell_type": "code",
   "execution_count": 14,
   "metadata": {},
   "outputs": [],
   "source": [
    "# create a new column called CLOSE_PRE which shows the previous day's CLOSE value for each stocks\n",
    "df <- df  %>% group_by(ax_ticker) %>% arrange(ax_ticker,Date) %>% mutate(CLOSE_PRE = lag(CLOSE))"
   ]
  },
  {
   "cell_type": "code",
   "execution_count": 15,
   "metadata": {},
   "outputs": [],
   "source": [
    "# create a new column called chg which shows the percentage change on CLOSE from previous day\n",
    "df <- df  %>% mutate(chg = (CLOSE - CLOSE_PRE)/CLOSE)"
   ]
  },
  {
   "cell_type": "code",
   "execution_count": 16,
   "metadata": {},
   "outputs": [
    {
     "data": {
      "text/html": [
       "<table>\n",
       "<caption>A grouped_df: 6 × 15</caption>\n",
       "<thead>\n",
       "\t<tr><th scope=col>ax_ticker</th><th scope=col>OPEN</th><th scope=col>HIGH</th><th scope=col>LOW</th><th scope=col>CLOSE</th><th scope=col>VOLUME</th><th scope=col>ADJUSTED</th><th scope=col>Date</th><th scope=col>MONEY_VOLUME</th><th scope=col>Company</th><th scope=col>Sector</th><th scope=col>MarketCap</th><th scope=col>Weight</th><th scope=col>CLOSE_PRE</th><th scope=col>chg</th></tr>\n",
       "\t<tr><th scope=col>&lt;chr&gt;</th><th scope=col>&lt;dbl&gt;</th><th scope=col>&lt;dbl&gt;</th><th scope=col>&lt;dbl&gt;</th><th scope=col>&lt;dbl&gt;</th><th scope=col>&lt;int&gt;</th><th scope=col>&lt;dbl&gt;</th><th scope=col>&lt;chr&gt;</th><th scope=col>&lt;dbl&gt;</th><th scope=col>&lt;chr&gt;</th><th scope=col>&lt;chr&gt;</th><th scope=col>&lt;dbl&gt;</th><th scope=col>&lt;dbl&gt;</th><th scope=col>&lt;dbl&gt;</th><th scope=col>&lt;dbl&gt;</th></tr>\n",
       "</thead>\n",
       "<tbody>\n",
       "\t<tr><td>A2M.AX</td><td>17.95</td><td>18.01</td><td>17.55</td><td>17.63</td><td>3301983</td><td>17.63</td><td>2020-06-09</td><td>58742278</td><td>The a2 Milk Company Ltd</td><td>Consumer Staples</td><td>13479700000</td><td>0.8</td><td>   NA</td><td>          NA</td></tr>\n",
       "\t<tr><td>A2M.AX</td><td>17.63</td><td>18.17</td><td>17.63</td><td>18.10</td><td>3696601</td><td>18.10</td><td>2020-06-10</td><td>66039775</td><td>The a2 Milk Company Ltd</td><td>Consumer Staples</td><td>13479700000</td><td>0.8</td><td>17.63</td><td> 0.025966906</td></tr>\n",
       "\t<tr><td>A2M.AX</td><td>17.93</td><td>18.06</td><td>17.63</td><td>17.79</td><td>2765764</td><td>17.79</td><td>2020-06-11</td><td>49396546</td><td>The a2 Milk Company Ltd</td><td>Consumer Staples</td><td>13479700000</td><td>0.8</td><td>18.10</td><td>-0.017425463</td></tr>\n",
       "\t<tr><td>A2M.AX</td><td>17.50</td><td>17.83</td><td>17.43</td><td>17.68</td><td>4624805</td><td>17.68</td><td>2020-06-12</td><td>81350320</td><td>The a2 Milk Company Ltd</td><td>Consumer Staples</td><td>13479700000</td><td>0.8</td><td>17.79</td><td>-0.006221776</td></tr>\n",
       "\t<tr><td>A2M.AX</td><td>17.59</td><td>17.76</td><td>17.17</td><td>17.19</td><td>4069376</td><td>17.19</td><td>2020-06-15</td><td>70766451</td><td>The a2 Milk Company Ltd</td><td>Consumer Staples</td><td>13479700000</td><td>0.8</td><td>17.68</td><td>-0.028504885</td></tr>\n",
       "\t<tr><td>A2M.AX</td><td>17.50</td><td>17.83</td><td>17.21</td><td>17.72</td><td>3927487</td><td>17.72</td><td>2020-06-16</td><td>69163044</td><td>The a2 Milk Company Ltd</td><td>Consumer Staples</td><td>13479700000</td><td>0.8</td><td>17.19</td><td> 0.029909595</td></tr>\n",
       "</tbody>\n",
       "</table>\n"
      ],
      "text/latex": [
       "A grouped\\_df: 6 × 15\n",
       "\\begin{tabular}{lllllllllllllll}\n",
       " ax\\_ticker & OPEN & HIGH & LOW & CLOSE & VOLUME & ADJUSTED & Date & MONEY\\_VOLUME & Company & Sector & MarketCap & Weight & CLOSE\\_PRE & chg\\\\\n",
       " <chr> & <dbl> & <dbl> & <dbl> & <dbl> & <int> & <dbl> & <chr> & <dbl> & <chr> & <chr> & <dbl> & <dbl> & <dbl> & <dbl>\\\\\n",
       "\\hline\n",
       "\t A2M.AX & 17.95 & 18.01 & 17.55 & 17.63 & 3301983 & 17.63 & 2020-06-09 & 58742278 & The a2 Milk Company Ltd & Consumer Staples & 13479700000 & 0.8 &    NA &           NA\\\\\n",
       "\t A2M.AX & 17.63 & 18.17 & 17.63 & 18.10 & 3696601 & 18.10 & 2020-06-10 & 66039775 & The a2 Milk Company Ltd & Consumer Staples & 13479700000 & 0.8 & 17.63 &  0.025966906\\\\\n",
       "\t A2M.AX & 17.93 & 18.06 & 17.63 & 17.79 & 2765764 & 17.79 & 2020-06-11 & 49396546 & The a2 Milk Company Ltd & Consumer Staples & 13479700000 & 0.8 & 18.10 & -0.017425463\\\\\n",
       "\t A2M.AX & 17.50 & 17.83 & 17.43 & 17.68 & 4624805 & 17.68 & 2020-06-12 & 81350320 & The a2 Milk Company Ltd & Consumer Staples & 13479700000 & 0.8 & 17.79 & -0.006221776\\\\\n",
       "\t A2M.AX & 17.59 & 17.76 & 17.17 & 17.19 & 4069376 & 17.19 & 2020-06-15 & 70766451 & The a2 Milk Company Ltd & Consumer Staples & 13479700000 & 0.8 & 17.68 & -0.028504885\\\\\n",
       "\t A2M.AX & 17.50 & 17.83 & 17.21 & 17.72 & 3927487 & 17.72 & 2020-06-16 & 69163044 & The a2 Milk Company Ltd & Consumer Staples & 13479700000 & 0.8 & 17.19 &  0.029909595\\\\\n",
       "\\end{tabular}\n"
      ],
      "text/markdown": [
       "\n",
       "A grouped_df: 6 × 15\n",
       "\n",
       "| ax_ticker &lt;chr&gt; | OPEN &lt;dbl&gt; | HIGH &lt;dbl&gt; | LOW &lt;dbl&gt; | CLOSE &lt;dbl&gt; | VOLUME &lt;int&gt; | ADJUSTED &lt;dbl&gt; | Date &lt;chr&gt; | MONEY_VOLUME &lt;dbl&gt; | Company &lt;chr&gt; | Sector &lt;chr&gt; | MarketCap &lt;dbl&gt; | Weight &lt;dbl&gt; | CLOSE_PRE &lt;dbl&gt; | chg &lt;dbl&gt; |\n",
       "|---|---|---|---|---|---|---|---|---|---|---|---|---|---|---|\n",
       "| A2M.AX | 17.95 | 18.01 | 17.55 | 17.63 | 3301983 | 17.63 | 2020-06-09 | 58742278 | The a2 Milk Company Ltd | Consumer Staples | 13479700000 | 0.8 |    NA |           NA |\n",
       "| A2M.AX | 17.63 | 18.17 | 17.63 | 18.10 | 3696601 | 18.10 | 2020-06-10 | 66039775 | The a2 Milk Company Ltd | Consumer Staples | 13479700000 | 0.8 | 17.63 |  0.025966906 |\n",
       "| A2M.AX | 17.93 | 18.06 | 17.63 | 17.79 | 2765764 | 17.79 | 2020-06-11 | 49396546 | The a2 Milk Company Ltd | Consumer Staples | 13479700000 | 0.8 | 18.10 | -0.017425463 |\n",
       "| A2M.AX | 17.50 | 17.83 | 17.43 | 17.68 | 4624805 | 17.68 | 2020-06-12 | 81350320 | The a2 Milk Company Ltd | Consumer Staples | 13479700000 | 0.8 | 17.79 | -0.006221776 |\n",
       "| A2M.AX | 17.59 | 17.76 | 17.17 | 17.19 | 4069376 | 17.19 | 2020-06-15 | 70766451 | The a2 Milk Company Ltd | Consumer Staples | 13479700000 | 0.8 | 17.68 | -0.028504885 |\n",
       "| A2M.AX | 17.50 | 17.83 | 17.21 | 17.72 | 3927487 | 17.72 | 2020-06-16 | 69163044 | The a2 Milk Company Ltd | Consumer Staples | 13479700000 | 0.8 | 17.19 |  0.029909595 |\n",
       "\n"
      ],
      "text/plain": [
       "  ax_ticker OPEN  HIGH  LOW   CLOSE VOLUME  ADJUSTED Date       MONEY_VOLUME\n",
       "1 A2M.AX    17.95 18.01 17.55 17.63 3301983 17.63    2020-06-09 58742278    \n",
       "2 A2M.AX    17.63 18.17 17.63 18.10 3696601 18.10    2020-06-10 66039775    \n",
       "3 A2M.AX    17.93 18.06 17.63 17.79 2765764 17.79    2020-06-11 49396546    \n",
       "4 A2M.AX    17.50 17.83 17.43 17.68 4624805 17.68    2020-06-12 81350320    \n",
       "5 A2M.AX    17.59 17.76 17.17 17.19 4069376 17.19    2020-06-15 70766451    \n",
       "6 A2M.AX    17.50 17.83 17.21 17.72 3927487 17.72    2020-06-16 69163044    \n",
       "  Company                 Sector           MarketCap   Weight CLOSE_PRE\n",
       "1 The a2 Milk Company Ltd Consumer Staples 13479700000 0.8       NA    \n",
       "2 The a2 Milk Company Ltd Consumer Staples 13479700000 0.8    17.63    \n",
       "3 The a2 Milk Company Ltd Consumer Staples 13479700000 0.8    18.10    \n",
       "4 The a2 Milk Company Ltd Consumer Staples 13479700000 0.8    17.79    \n",
       "5 The a2 Milk Company Ltd Consumer Staples 13479700000 0.8    17.68    \n",
       "6 The a2 Milk Company Ltd Consumer Staples 13479700000 0.8    17.19    \n",
       "  chg         \n",
       "1           NA\n",
       "2  0.025966906\n",
       "3 -0.017425463\n",
       "4 -0.006221776\n",
       "5 -0.028504885\n",
       "6  0.029909595"
      ]
     },
     "metadata": {},
     "output_type": "display_data"
    }
   ],
   "source": [
    "head(df)"
   ]
  },
  {
   "cell_type": "code",
   "execution_count": 17,
   "metadata": {},
   "outputs": [
    {
     "name": "stderr",
     "output_type": "stream",
     "text": [
      "`stat_bin()` using `bins = 30`. Pick better value with `binwidth`.\n",
      "\n"
     ]
    },
    {
     "data": {
      "image/png": "[encoded data removed]",
      "text/plain": [
       "plot without title"
      ]
     },
     "metadata": {
      "image/png": {
       "height": 420,
       "width": 420
      },
      "text/plain": {
       "height": 420,
       "width": 420
      }
     },
     "output_type": "display_data"
    }
   ],
   "source": [
    "# plot the distribution of the column chg, only filter on abs(chg) < 20%\n",
    "ggplot(aes(x=chg), data = df %>% filter(abs(chg) < 0.2))+\n",
    "    geom_histogram(color =I('black'),fill = \"red\")+\n",
    "    ggtitle('daily change percentage')"
   ]
  },
  {
   "cell_type": "markdown",
   "metadata": {},
   "source": [
    "## Part 3"
   ]
  },
  {
   "cell_type": "code",
   "execution_count": 19,
   "metadata": {},
   "outputs": [],
   "source": [
    "library(randomForest)\n",
    "library(precrec)"
   ]
  },
  {
   "cell_type": "code",
   "execution_count": 20,
   "metadata": {},
   "outputs": [],
   "source": [
    "## Q1: add columns chg1, which is the chg value for previous day, chg2 which is the chg value at two days ago, chg3 which is the chg value at three days ago and chg4 which is the chg value at four days ago\n",
    "## add a column called target which has value 1 if CLOSE value increased for the next day, otherwise set it to 0. Replace xxx with your code \n",
    "## hint: use lag, lead and ifelse function\n",
    "df <- df  %>% group_by(ax_ticker) %>% arrange(ax_ticker,Date) %>% mutate(chg1 = lag(chg), chg2 = lag(chg,2), chg3 = lag(chg,3), chg4 = lag(chg,4), target = ifelse(lead(CLOSE) - CLOSE > 0, 1, 0))"
   ]
  },
  {
   "cell_type": "code",
   "execution_count": 21,
   "metadata": {},
   "outputs": [
    {
     "data": {
      "text/html": [
       "<table>\n",
       "<caption>A grouped_df: 6 × 20</caption>\n",
       "<thead>\n",
       "\t<tr><th scope=col>ax_ticker</th><th scope=col>OPEN</th><th scope=col>HIGH</th><th scope=col>LOW</th><th scope=col>CLOSE</th><th scope=col>VOLUME</th><th scope=col>ADJUSTED</th><th scope=col>Date</th><th scope=col>MONEY_VOLUME</th><th scope=col>Company</th><th scope=col>Sector</th><th scope=col>MarketCap</th><th scope=col>Weight</th><th scope=col>CLOSE_PRE</th><th scope=col>chg</th><th scope=col>chg1</th><th scope=col>chg2</th><th scope=col>chg3</th><th scope=col>chg4</th><th scope=col>target</th></tr>\n",
       "\t<tr><th scope=col>&lt;chr&gt;</th><th scope=col>&lt;dbl&gt;</th><th scope=col>&lt;dbl&gt;</th><th scope=col>&lt;dbl&gt;</th><th scope=col>&lt;dbl&gt;</th><th scope=col>&lt;int&gt;</th><th scope=col>&lt;dbl&gt;</th><th scope=col>&lt;chr&gt;</th><th scope=col>&lt;dbl&gt;</th><th scope=col>&lt;chr&gt;</th><th scope=col>&lt;chr&gt;</th><th scope=col>&lt;dbl&gt;</th><th scope=col>&lt;dbl&gt;</th><th scope=col>&lt;dbl&gt;</th><th scope=col>&lt;dbl&gt;</th><th scope=col>&lt;dbl&gt;</th><th scope=col>&lt;dbl&gt;</th><th scope=col>&lt;dbl&gt;</th><th scope=col>&lt;dbl&gt;</th><th scope=col>&lt;dbl&gt;</th></tr>\n",
       "</thead>\n",
       "<tbody>\n",
       "\t<tr><td>A2M.AX</td><td>17.95</td><td>18.01</td><td>17.55</td><td>17.63</td><td>3301983</td><td>17.63</td><td>2020-06-09</td><td>58742278</td><td>The a2 Milk Company Ltd</td><td>Consumer Staples</td><td>13479700000</td><td>0.8</td><td>   NA</td><td>          NA</td><td>          NA</td><td>          NA</td><td>         NA</td><td>        NA</td><td>1</td></tr>\n",
       "\t<tr><td>A2M.AX</td><td>17.63</td><td>18.17</td><td>17.63</td><td>18.10</td><td>3696601</td><td>18.10</td><td>2020-06-10</td><td>66039775</td><td>The a2 Milk Company Ltd</td><td>Consumer Staples</td><td>13479700000</td><td>0.8</td><td>17.63</td><td> 0.025966906</td><td>          NA</td><td>          NA</td><td>         NA</td><td>        NA</td><td>0</td></tr>\n",
       "\t<tr><td>A2M.AX</td><td>17.93</td><td>18.06</td><td>17.63</td><td>17.79</td><td>2765764</td><td>17.79</td><td>2020-06-11</td><td>49396546</td><td>The a2 Milk Company Ltd</td><td>Consumer Staples</td><td>13479700000</td><td>0.8</td><td>18.10</td><td>-0.017425463</td><td> 0.025966906</td><td>          NA</td><td>         NA</td><td>        NA</td><td>0</td></tr>\n",
       "\t<tr><td>A2M.AX</td><td>17.50</td><td>17.83</td><td>17.43</td><td>17.68</td><td>4624805</td><td>17.68</td><td>2020-06-12</td><td>81350320</td><td>The a2 Milk Company Ltd</td><td>Consumer Staples</td><td>13479700000</td><td>0.8</td><td>17.79</td><td>-0.006221776</td><td>-0.017425463</td><td> 0.025966906</td><td>         NA</td><td>        NA</td><td>0</td></tr>\n",
       "\t<tr><td>A2M.AX</td><td>17.59</td><td>17.76</td><td>17.17</td><td>17.19</td><td>4069376</td><td>17.19</td><td>2020-06-15</td><td>70766451</td><td>The a2 Milk Company Ltd</td><td>Consumer Staples</td><td>13479700000</td><td>0.8</td><td>17.68</td><td>-0.028504885</td><td>-0.006221776</td><td>-0.017425463</td><td> 0.02596691</td><td>        NA</td><td>1</td></tr>\n",
       "\t<tr><td>A2M.AX</td><td>17.50</td><td>17.83</td><td>17.21</td><td>17.72</td><td>3927487</td><td>17.72</td><td>2020-06-16</td><td>69163044</td><td>The a2 Milk Company Ltd</td><td>Consumer Staples</td><td>13479700000</td><td>0.8</td><td>17.19</td><td> 0.029909595</td><td>-0.028504885</td><td>-0.006221776</td><td>-0.01742546</td><td>0.02596691</td><td>1</td></tr>\n",
       "</tbody>\n",
       "</table>\n"
      ],
      "text/latex": [
       "A grouped\\_df: 6 × 20\n",
       "\\begin{tabular}{llllllllllllllllllll}\n",
       " ax\\_ticker & OPEN & HIGH & LOW & CLOSE & VOLUME & ADJUSTED & Date & MONEY\\_VOLUME & Company & Sector & MarketCap & Weight & CLOSE\\_PRE & chg & chg1 & chg2 & chg3 & chg4 & target\\\\\n",
       " <chr> & <dbl> & <dbl> & <dbl> & <dbl> & <int> & <dbl> & <chr> & <dbl> & <chr> & <chr> & <dbl> & <dbl> & <dbl> & <dbl> & <dbl> & <dbl> & <dbl> & <dbl> & <dbl>\\\\\n",
       "\\hline\n",
       "\t A2M.AX & 17.95 & 18.01 & 17.55 & 17.63 & 3301983 & 17.63 & 2020-06-09 & 58742278 & The a2 Milk Company Ltd & Consumer Staples & 13479700000 & 0.8 &    NA &           NA &           NA &           NA &          NA &         NA & 1\\\\\n",
       "\t A2M.AX & 17.63 & 18.17 & 17.63 & 18.10 & 3696601 & 18.10 & 2020-06-10 & 66039775 & The a2 Milk Company Ltd & Consumer Staples & 13479700000 & 0.8 & 17.63 &  0.025966906 &           NA &           NA &          NA &         NA & 0\\\\\n",
       "\t A2M.AX & 17.93 & 18.06 & 17.63 & 17.79 & 2765764 & 17.79 & 2020-06-11 & 49396546 & The a2 Milk Company Ltd & Consumer Staples & 13479700000 & 0.8 & 18.10 & -0.017425463 &  0.025966906 &           NA &          NA &         NA & 0\\\\\n",
       "\t A2M.AX & 17.50 & 17.83 & 17.43 & 17.68 & 4624805 & 17.68 & 2020-06-12 & 81350320 & The a2 Milk Company Ltd & Consumer Staples & 13479700000 & 0.8 & 17.79 & -0.006221776 & -0.017425463 &  0.025966906 &          NA &         NA & 0\\\\\n",
       "\t A2M.AX & 17.59 & 17.76 & 17.17 & 17.19 & 4069376 & 17.19 & 2020-06-15 & 70766451 & The a2 Milk Company Ltd & Consumer Staples & 13479700000 & 0.8 & 17.68 & -0.028504885 & -0.006221776 & -0.017425463 &  0.02596691 &         NA & 1\\\\\n",
       "\t A2M.AX & 17.50 & 17.83 & 17.21 & 17.72 & 3927487 & 17.72 & 2020-06-16 & 69163044 & The a2 Milk Company Ltd & Consumer Staples & 13479700000 & 0.8 & 17.19 &  0.029909595 & -0.028504885 & -0.006221776 & -0.01742546 & 0.02596691 & 1\\\\\n",
       "\\end{tabular}\n"
      ],
      "text/markdown": [
       "\n",
       "A grouped_df: 6 × 20\n",
       "\n",
       "| ax_ticker &lt;chr&gt; | OPEN &lt;dbl&gt; | HIGH &lt;dbl&gt; | LOW &lt;dbl&gt; | CLOSE &lt;dbl&gt; | VOLUME &lt;int&gt; | ADJUSTED &lt;dbl&gt; | Date &lt;chr&gt; | MONEY_VOLUME &lt;dbl&gt; | Company &lt;chr&gt; | Sector &lt;chr&gt; | MarketCap &lt;dbl&gt; | Weight &lt;dbl&gt; | CLOSE_PRE &lt;dbl&gt; | chg &lt;dbl&gt; | chg1 &lt;dbl&gt; | chg2 &lt;dbl&gt; | chg3 &lt;dbl&gt; | chg4 &lt;dbl&gt; | target &lt;dbl&gt; |\n",
       "|---|---|---|---|---|---|---|---|---|---|---|---|---|---|---|---|---|---|---|---|\n",
       "| A2M.AX | 17.95 | 18.01 | 17.55 | 17.63 | 3301983 | 17.63 | 2020-06-09 | 58742278 | The a2 Milk Company Ltd | Consumer Staples | 13479700000 | 0.8 |    NA |           NA |           NA |           NA |          NA |         NA | 1 |\n",
       "| A2M.AX | 17.63 | 18.17 | 17.63 | 18.10 | 3696601 | 18.10 | 2020-06-10 | 66039775 | The a2 Milk Company Ltd | Consumer Staples | 13479700000 | 0.8 | 17.63 |  0.025966906 |           NA |           NA |          NA |         NA | 0 |\n",
       "| A2M.AX | 17.93 | 18.06 | 17.63 | 17.79 | 2765764 | 17.79 | 2020-06-11 | 49396546 | The a2 Milk Company Ltd | Consumer Staples | 13479700000 | 0.8 | 18.10 | -0.017425463 |  0.025966906 |           NA |          NA |         NA | 0 |\n",
       "| A2M.AX | 17.50 | 17.83 | 17.43 | 17.68 | 4624805 | 17.68 | 2020-06-12 | 81350320 | The a2 Milk Company Ltd | Consumer Staples | 13479700000 | 0.8 | 17.79 | -0.006221776 | -0.017425463 |  0.025966906 |          NA |         NA | 0 |\n",
       "| A2M.AX | 17.59 | 17.76 | 17.17 | 17.19 | 4069376 | 17.19 | 2020-06-15 | 70766451 | The a2 Milk Company Ltd | Consumer Staples | 13479700000 | 0.8 | 17.68 | -0.028504885 | -0.006221776 | -0.017425463 |  0.02596691 |         NA | 1 |\n",
       "| A2M.AX | 17.50 | 17.83 | 17.21 | 17.72 | 3927487 | 17.72 | 2020-06-16 | 69163044 | The a2 Milk Company Ltd | Consumer Staples | 13479700000 | 0.8 | 17.19 |  0.029909595 | -0.028504885 | -0.006221776 | -0.01742546 | 0.02596691 | 1 |\n",
       "\n"
      ],
      "text/plain": [
       "  ax_ticker OPEN  HIGH  LOW   CLOSE VOLUME  ADJUSTED Date       MONEY_VOLUME\n",
       "1 A2M.AX    17.95 18.01 17.55 17.63 3301983 17.63    2020-06-09 58742278    \n",
       "2 A2M.AX    17.63 18.17 17.63 18.10 3696601 18.10    2020-06-10 66039775    \n",
       "3 A2M.AX    17.93 18.06 17.63 17.79 2765764 17.79    2020-06-11 49396546    \n",
       "4 A2M.AX    17.50 17.83 17.43 17.68 4624805 17.68    2020-06-12 81350320    \n",
       "5 A2M.AX    17.59 17.76 17.17 17.19 4069376 17.19    2020-06-15 70766451    \n",
       "6 A2M.AX    17.50 17.83 17.21 17.72 3927487 17.72    2020-06-16 69163044    \n",
       "  Company                 Sector           MarketCap   Weight CLOSE_PRE\n",
       "1 The a2 Milk Company Ltd Consumer Staples 13479700000 0.8       NA    \n",
       "2 The a2 Milk Company Ltd Consumer Staples 13479700000 0.8    17.63    \n",
       "3 The a2 Milk Company Ltd Consumer Staples 13479700000 0.8    18.10    \n",
       "4 The a2 Milk Company Ltd Consumer Staples 13479700000 0.8    17.79    \n",
       "5 The a2 Milk Company Ltd Consumer Staples 13479700000 0.8    17.68    \n",
       "6 The a2 Milk Company Ltd Consumer Staples 13479700000 0.8    17.19    \n",
       "  chg          chg1         chg2         chg3        chg4       target\n",
       "1           NA           NA           NA          NA         NA 1     \n",
       "2  0.025966906           NA           NA          NA         NA 0     \n",
       "3 -0.017425463  0.025966906           NA          NA         NA 0     \n",
       "4 -0.006221776 -0.017425463  0.025966906          NA         NA 0     \n",
       "5 -0.028504885 -0.006221776 -0.017425463  0.02596691         NA 1     \n",
       "6  0.029909595 -0.028504885 -0.006221776 -0.01742546 0.02596691 1     "
      ]
     },
     "metadata": {},
     "output_type": "display_data"
    }
   ],
   "source": [
    "# you should see something similar to below\n",
    "head(df)"
   ]
  },
  {
   "cell_type": "code",
   "execution_count": 22,
   "metadata": {
    "scrolled": false
   },
   "outputs": [],
   "source": [
    "# Q2: build a dataframe which only select ax_ticker, Date, Weight, chg, chg1, chg2, chg3, chg4, target, drop any rows have NA value\n",
    "# replace xxx with your code\n",
    "df_model <- df %>% select(ax_ticker, Date, Weight, chg, chg1, chg2, chg3, chg4, target) %>% drop_na()"
   ]
  },
  {
   "cell_type": "code",
   "execution_count": 23,
   "metadata": {},
   "outputs": [
    {
     "data": {
      "text/html": [
       "<table>\n",
       "<caption>A grouped_df: 6 × 9</caption>\n",
       "<thead>\n",
       "\t<tr><th scope=col>ax_ticker</th><th scope=col>Date</th><th scope=col>Weight</th><th scope=col>chg</th><th scope=col>chg1</th><th scope=col>chg2</th><th scope=col>chg3</th><th scope=col>chg4</th><th scope=col>target</th></tr>\n",
       "\t<tr><th scope=col>&lt;chr&gt;</th><th scope=col>&lt;chr&gt;</th><th scope=col>&lt;dbl&gt;</th><th scope=col>&lt;dbl&gt;</th><th scope=col>&lt;dbl&gt;</th><th scope=col>&lt;dbl&gt;</th><th scope=col>&lt;dbl&gt;</th><th scope=col>&lt;dbl&gt;</th><th scope=col>&lt;dbl&gt;</th></tr>\n",
       "</thead>\n",
       "<tbody>\n",
       "\t<tr><td>A2M.AX</td><td>2020-06-16</td><td>0.8</td><td> 0.02990960</td><td>-0.02850488</td><td>-0.006221776</td><td>-0.017425463</td><td> 0.025966906</td><td>1</td></tr>\n",
       "\t<tr><td>A2M.AX</td><td>2020-06-17</td><td>0.8</td><td> 0.07225136</td><td> 0.02990960</td><td>-0.028504885</td><td>-0.006221776</td><td>-0.017425463</td><td>1</td></tr>\n",
       "\t<tr><td>A2M.AX</td><td>2020-06-18</td><td>0.8</td><td> 0.01495611</td><td> 0.07225136</td><td> 0.029909595</td><td>-0.028504885</td><td>-0.006221776</td><td>0</td></tr>\n",
       "\t<tr><td>A2M.AX</td><td>2020-06-19</td><td>0.8</td><td>-0.04415719</td><td> 0.01495611</td><td> 0.072251361</td><td> 0.029909595</td><td>-0.028504885</td><td>0</td></tr>\n",
       "\t<tr><td>A2M.AX</td><td>2020-06-22</td><td>0.8</td><td>-0.02370458</td><td>-0.04415719</td><td> 0.014956112</td><td> 0.072251361</td><td> 0.029909595</td><td>0</td></tr>\n",
       "\t<tr><td>A2M.AX</td><td>2020-06-23</td><td>0.8</td><td>-0.01002227</td><td>-0.02370458</td><td>-0.044157189</td><td> 0.014956112</td><td> 0.072251361</td><td>1</td></tr>\n",
       "</tbody>\n",
       "</table>\n"
      ],
      "text/latex": [
       "A grouped\\_df: 6 × 9\n",
       "\\begin{tabular}{lllllllll}\n",
       " ax\\_ticker & Date & Weight & chg & chg1 & chg2 & chg3 & chg4 & target\\\\\n",
       " <chr> & <chr> & <dbl> & <dbl> & <dbl> & <dbl> & <dbl> & <dbl> & <dbl>\\\\\n",
       "\\hline\n",
       "\t A2M.AX & 2020-06-16 & 0.8 &  0.02990960 & -0.02850488 & -0.006221776 & -0.017425463 &  0.025966906 & 1\\\\\n",
       "\t A2M.AX & 2020-06-17 & 0.8 &  0.07225136 &  0.02990960 & -0.028504885 & -0.006221776 & -0.017425463 & 1\\\\\n",
       "\t A2M.AX & 2020-06-18 & 0.8 &  0.01495611 &  0.07225136 &  0.029909595 & -0.028504885 & -0.006221776 & 0\\\\\n",
       "\t A2M.AX & 2020-06-19 & 0.8 & -0.04415719 &  0.01495611 &  0.072251361 &  0.029909595 & -0.028504885 & 0\\\\\n",
       "\t A2M.AX & 2020-06-22 & 0.8 & -0.02370458 & -0.04415719 &  0.014956112 &  0.072251361 &  0.029909595 & 0\\\\\n",
       "\t A2M.AX & 2020-06-23 & 0.8 & -0.01002227 & -0.02370458 & -0.044157189 &  0.014956112 &  0.072251361 & 1\\\\\n",
       "\\end{tabular}\n"
      ],
      "text/markdown": [
       "\n",
       "A grouped_df: 6 × 9\n",
       "\n",
       "| ax_ticker &lt;chr&gt; | Date &lt;chr&gt; | Weight &lt;dbl&gt; | chg &lt;dbl&gt; | chg1 &lt;dbl&gt; | chg2 &lt;dbl&gt; | chg3 &lt;dbl&gt; | chg4 &lt;dbl&gt; | target &lt;dbl&gt; |\n",
       "|---|---|---|---|---|---|---|---|---|\n",
       "| A2M.AX | 2020-06-16 | 0.8 |  0.02990960 | -0.02850488 | -0.006221776 | -0.017425463 |  0.025966906 | 1 |\n",
       "| A2M.AX | 2020-06-17 | 0.8 |  0.07225136 |  0.02990960 | -0.028504885 | -0.006221776 | -0.017425463 | 1 |\n",
       "| A2M.AX | 2020-06-18 | 0.8 |  0.01495611 |  0.07225136 |  0.029909595 | -0.028504885 | -0.006221776 | 0 |\n",
       "| A2M.AX | 2020-06-19 | 0.8 | -0.04415719 |  0.01495611 |  0.072251361 |  0.029909595 | -0.028504885 | 0 |\n",
       "| A2M.AX | 2020-06-22 | 0.8 | -0.02370458 | -0.04415719 |  0.014956112 |  0.072251361 |  0.029909595 | 0 |\n",
       "| A2M.AX | 2020-06-23 | 0.8 | -0.01002227 | -0.02370458 | -0.044157189 |  0.014956112 |  0.072251361 | 1 |\n",
       "\n"
      ],
      "text/plain": [
       "  ax_ticker Date       Weight chg         chg1        chg2         chg3        \n",
       "1 A2M.AX    2020-06-16 0.8     0.02990960 -0.02850488 -0.006221776 -0.017425463\n",
       "2 A2M.AX    2020-06-17 0.8     0.07225136  0.02990960 -0.028504885 -0.006221776\n",
       "3 A2M.AX    2020-06-18 0.8     0.01495611  0.07225136  0.029909595 -0.028504885\n",
       "4 A2M.AX    2020-06-19 0.8    -0.04415719  0.01495611  0.072251361  0.029909595\n",
       "5 A2M.AX    2020-06-22 0.8    -0.02370458 -0.04415719  0.014956112  0.072251361\n",
       "6 A2M.AX    2020-06-23 0.8    -0.01002227 -0.02370458 -0.044157189  0.014956112\n",
       "  chg4         target\n",
       "1  0.025966906 1     \n",
       "2 -0.017425463 1     \n",
       "3 -0.006221776 0     \n",
       "4 -0.028504885 0     \n",
       "5  0.029909595 0     \n",
       "6  0.072251361 1     "
      ]
     },
     "metadata": {},
     "output_type": "display_data"
    }
   ],
   "source": [
    "# you should see something similar to below\n",
    "head(df_model)"
   ]
  },
  {
   "cell_type": "code",
   "execution_count": 24,
   "metadata": {},
   "outputs": [],
   "source": [
    "# change target variable to factor data type so we can build a classification model later on\n",
    "df_model$target <- as.factor(df_model$target)"
   ]
  },
  {
   "cell_type": "code",
   "execution_count": 25,
   "metadata": {},
   "outputs": [],
   "source": [
    "# split data into training and test by index\n",
    "train = sample(1: nrow(df_model), nrow(df_model)/2)"
   ]
  },
  {
   "cell_type": "code",
   "execution_count": 26,
   "metadata": {},
   "outputs": [
    {
     "name": "stderr",
     "output_type": "stream",
     "text": [
      "Adding missing grouping variables: `ax_ticker`\n",
      "\n",
      "Adding missing grouping variables: `ax_ticker`\n",
      "\n"
     ]
    }
   ],
   "source": [
    "# Q3: build a randomForest model on training data, note you need to drop ax_ticker and Date column before putting into model\n",
    "# replace xxx with your codeset.seed (1)\n",
    "model = randomForest(target∼., data=df_model[train,] %>% select(-ax_ticker, -Date), mtry=3, importance =TRUE)"
   ]
  },
  {
   "cell_type": "code",
   "execution_count": 27,
   "metadata": {},
   "outputs": [
    {
     "name": "stderr",
     "output_type": "stream",
     "text": [
      "Adding missing grouping variables: `ax_ticker`\n",
      "\n"
     ]
    }
   ],
   "source": [
    "# make a prediction on test data\n",
    "tree.pred = predict(model, df_model[-train,] %>% select(-ax_ticker, -Date), type=\"prob\")"
   ]
  },
  {
   "cell_type": "code",
   "execution_count": 98,
   "metadata": {},
   "outputs": [
    {
     "data": {
      "image/png": "[encoded data removed]",
      "text/plain": [
       "plot without title"
      ]
     },
     "metadata": {
      "image/png": {
       "height": 420,
       "width": 420
      },
      "text/plain": {
       "height": 420,
       "width": 420
      }
     },
     "output_type": "display_data"
    }
   ],
   "source": [
    "# Q5: plot ROC curve, replace xxx with your code\n",
    "precrec_obj <- evalmod(scores = tree.pred[,2], labels = as.vector(df_model[-train,]$target))\n",
    "autoplot(precrec_obj)"
   ]
  },
  {
   "cell_type": "code",
   "execution_count": 101,
   "metadata": {},
   "outputs": [],
   "source": [
    "## Future work, as you can see, the model's performance is barely acceptable, can you add more features(columns) to imporve the model performance?"
   ]
  },
  {
   "cell_type": "code",
   "execution_count": null,
   "metadata": {},
   "outputs": [],
   "source": []
  }
 ],
 "metadata": {
  "kernelspec": {
   "display_name": "R",
   "language": "R",
   "name": "ir"
  },
  "language_info": {
   "codemirror_mode": "r",
   "file_extension": ".r",
   "mimetype": "text/x-r-source",
   "name": "R",
   "pygments_lexer": "r",
   "version": "4.0.0"
  }
 },
 "nbformat": 4,
 "nbformat_minor": 4
}
